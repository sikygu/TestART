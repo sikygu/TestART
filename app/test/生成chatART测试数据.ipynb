{
 "cells": [
  {
   "cell_type": "code",
   "execution_count": 4,
   "outputs": [],
   "source": [
    "import os\n",
    "import json\n",
    "import re\n",
    "# imports\n",
    "import javalang\n",
    "import os\n",
    "from app.database import Database\n",
    "from app.classes import IterationStatus, BatchAttemptStatus, TestStatus, AttemptStatus,Dataset\n",
    "from typing import List\n",
    "from app.constants import CONFIG\n",
    "import pickle\n",
    "import xml.etree.ElementTree as ET\n",
    "from app.utils import etree_to_dict\n",
    "from tqdm import tqdm\n",
    "from app.constants import CoverageMode\n",
    "import pickle\n",
    "from app.classes import Dataset\n",
    "from app.constants import CONFIG\n",
    "\n",
    "DATASET = \"gson\"\n",
    "OUTPUT_DIR = fr\"C:\\Users\\tianfy\\Desktop\\毕设\\数据集\\4.0\\{DATASET}\"\n"
   ],
   "metadata": {
    "collapsed": false,
    "ExecuteTime": {
     "end_time": "2024-03-17T01:59:52.976948Z",
     "start_time": "2024-03-17T01:59:52.971949500Z"
    }
   }
  },
  {
   "cell_type": "code",
   "execution_count": 2,
   "outputs": [
    {
     "name": "stdout",
     "output_type": "stream",
     "text": [
      "read time: 0.04800009727478027\n",
      "decompress time: 3.5530006885528564\n",
      "loads time: 3.974311113357544\n",
      "assembling time: 3.818988561630249\n"
     ]
    }
   ],
   "source": [
    "# read dataset\n",
    "db = Database()\n",
    "all_dataset = db.get_all()"
   ],
   "metadata": {
    "collapsed": false,
    "ExecuteTime": {
     "end_time": "2024-03-17T01:59:42.428450300Z",
     "start_time": "2024-03-17T01:59:30.706924500Z"
    }
   }
  },
  {
   "cell_type": "code",
   "execution_count": 3,
   "outputs": [
    {
     "name": "stdout",
     "output_type": "stream",
     "text": [
      "lang_1_fixed 47\n",
      "commons-csv 58\n",
      "commons-cli 61\n",
      "gson 66\n",
      "jfreechart 82\n",
      "lang_1_fixed 89\n",
      "gson 98\n",
      "commons-csv 99\n",
      "commons-cli 100\n",
      "jfreechart 101\n",
      "jfreechart154 123\n",
      "jfreechart154 126\n",
      "lang_1_fixed 127\n",
      "gson 128\n",
      "jfreechart154 130\n"
     ]
    }
   ],
   "source": [
    "for b in all_dataset:\n",
    "    print(b.dataset, b.doc_id)"
   ],
   "metadata": {
    "collapsed": false,
    "ExecuteTime": {
     "end_time": "2024-03-17T01:59:42.432954600Z",
     "start_time": "2024-03-17T01:59:42.429451800Z"
    }
   }
  },
  {
   "cell_type": "code",
   "execution_count": 6,
   "outputs": [
    {
     "name": "stdout",
     "output_type": "stream",
     "text": [
      "pass attempts 2593\n"
     ]
    }
   ],
   "source": [
    "batch = [x for x in all_dataset if x.doc_id == 130][0]\n",
    "attempts = batch.attempts\n",
    "get_pass_attempts = lambda attempts: [x for x in attempts if x.type == IterationStatus.Type.PASS]\n",
    "def get_first_attempts(attempts: List[AttemptStatus]):\n",
    "    first_attempts = []\n",
    "    for a in attempts:\n",
    "        cpy_a = a.model_copy(deep=True)\n",
    "        if cpy_a.type != IterationStatus.Type.PASS:\n",
    "            first_attempts.append(cpy_a)\n",
    "            continue\n",
    "        if not cpy_a.sub_iteration_status:\n",
    "            pass\n",
    "        else:\n",
    "            it: IterationStatus = cpy_a.sub_iteration_status[0]\n",
    "            cpy_a.sub_iteration_status = []\n",
    "            cpy_a.iteration_status = None\n",
    "            if not it.sub_test_status:\n",
    "                assert False\n",
    "                pass\n",
    "            else:\n",
    "                ts = it.sub_test_status[0]\n",
    "                it.sub_test_status = []\n",
    "                it.test_status = None\n",
    "                it.add_test_status(ts)\n",
    "                if ts.type == TestStatus.Type.ERROR:\n",
    "                    it.type = IterationStatus.Type.COMPILE_ERROR\n",
    "                else:\n",
    "                    it.type = IterationStatus.Type.PASS if it.all_pass else IterationStatus.Type.RUNTIME_ERROR\n",
    "            cpy_a.add_iteration_status(it)\n",
    "        first_attempts.append(cpy_a)\n",
    "    return first_attempts\n",
    "from tqdm import tqdm\n",
    "def check_is_valid(flow_run_id: str):\n",
    "    import requests\n",
    "    base_url = \"http://127.0.0.1:4200/api/logs/filter\"\n",
    "    payload = {\n",
    "        \"logs\": {\n",
    "            \"level\": {\n",
    "                \"ge_\": 30\n",
    "            },\n",
    "            \"flow_run_id\": {\n",
    "                \"any_\": [\n",
    "                    f\"{flow_run_id}\"\n",
    "                ]\n",
    "            }\n",
    "        },\n",
    "        \"sort\": \"TIMESTAMP_ASC\",\n",
    "        \"offset\": 0,\n",
    "        \"limit\": 200\n",
    "    }\n",
    "\n",
    "    # parse response\n",
    "    response = requests.post(base_url, json=payload)\n",
    "    arr = response.json()\n",
    "    messages = [x['message'] for x in arr]\n",
    "    for i in range(len(messages) - 1):\n",
    "        if 'source folder D' in messages[i]:\n",
    "            if 'fix compile error' in messages[i + 1]:\n",
    "                return False\n",
    "            else:\n",
    "                return True\n",
    "    return True\n",
    "def first_attempt_filter(attempts: List[AttemptStatus]):\n",
    "    filtered = []\n",
    "    for a in tqdm(attempts):\n",
    "        if a.type == IterationStatus.Type.PASS and check_is_valid(a.link.split(\"/\")[-1]):\n",
    "            filtered.append(a)\n",
    "    print(f\"filtered: {len(filtered)}\")\n",
    "    return filtered\n",
    "def get_iteration_n_attempts(n):\n",
    "    iteration_attempts = []\n",
    "    for a in attempts:\n",
    "        cpy_a = a.model_copy(deep=True)\n",
    "\n",
    "        if cpy_a.index < n:\n",
    "            iteration_attempts.append(cpy_a)\n",
    "            continue\n",
    "\n",
    "        sub_its = cpy_a.sub_iteration_status\n",
    "        cpy_a.sub_iteration_status = []\n",
    "        cpy_a.iteration_status = None\n",
    "\n",
    "        count = 0\n",
    "        for it in sub_its:\n",
    "            cpy_a.add_iteration_status(it)\n",
    "            count += 1\n",
    "            if count == n:\n",
    "                break\n",
    "\n",
    "        iteration_attempts.append(cpy_a)\n",
    "        try:\n",
    "            assert len(cpy_a.sub_iteration_status) == n\n",
    "        except:\n",
    "            print(cpy_a.idx, len(cpy_a.sub_iteration_status))\n",
    "    return iteration_attempts\n",
    "\n",
    "\n",
    "pass_attempts: list[AttemptStatus] = get_pass_attempts(attempts)\n",
    "print(\"pass attempts\", len(pass_attempts))"
   ],
   "metadata": {
    "collapsed": false,
    "ExecuteTime": {
     "end_time": "2024-03-17T02:00:11.321737300Z",
     "start_time": "2024-03-17T02:00:11.313735900Z"
    }
   }
  },
  {
   "cell_type": "code",
   "execution_count": 7,
   "outputs": [
    {
     "name": "stderr",
     "output_type": "stream",
     "text": [
      "100%|██████████| 2593/2593 [00:01<00:00, 1635.27it/s]\n"
     ]
    }
   ],
   "source": [
    "def replace_class_name(code:str, key):\n",
    "    pattern = \"public class ([\\w]+)\"\n",
    "    class_name = re.search(pattern, code).group(1).strip()\n",
    "    code = code.replace(class_name, key)\n",
    "    return code\n",
    "def get_package_path(code: str):\n",
    "    match = re.search(\"package ([\\w.]+);\", code)\n",
    "    if match:\n",
    "        return match.group(1).replace(\".\", \"/\")\n",
    "    else:\n",
    "        assert False, \"no package found\"\n",
    "from tqdm import tqdm\n",
    "import shutil\n",
    "if os.path.exists(OUTPUT_DIR):\n",
    "    shutil.rmtree(OUTPUT_DIR)\n",
    "\n",
    "for attempt in tqdm(pass_attempts):\n",
    "    method = attempt.method.split(\"(\")[0]\n",
    "    key = f\"{attempt.clazz}_{method}_{attempt.idx}_Test\"\n",
    "    code = replace_class_name(attempt.test_code, key)\n",
    "    package_path = get_package_path(code)\n",
    "    OUTPUT_PATH = f\"{OUTPUT_DIR}/{package_path}\"\n",
    "    os.makedirs(OUTPUT_PATH, exist_ok=True)\n",
    "    with open(os.path.join(OUTPUT_PATH, f\"{key}.java\"), \"w\", encoding=\"utf8\") as f:\n",
    "        f.write(code)\n"
   ],
   "metadata": {
    "collapsed": false,
    "ExecuteTime": {
     "end_time": "2024-03-17T02:00:18.745798800Z",
     "start_time": "2024-03-17T02:00:17.122692600Z"
    }
   }
  },
  {
   "cell_type": "code",
   "execution_count": 8,
   "outputs": [
    {
     "name": "stdout",
     "output_type": "stream",
     "text": [
      "clean up done\n"
     ]
    }
   ],
   "source": [
    "import zipfile\n",
    "\n",
    "EXECUTION_PATH = fr\"D:\\IDEA_Projects\\TestJavaCode\\src\\test\\java\"\n",
    "SOURCE_PATH = fr\"D:\\IDEA_Projects\\TestJavaCode\\src\\main\"\n",
    "PROJECT_PATH = fr\"D:\\IDEA_Projects\\TestJavaCode\"\n",
    "if os.path.exists(EXECUTION_PATH):\n",
    "    shutil.rmtree(EXECUTION_PATH)\n",
    "if os.path.exists(SOURCE_PATH):\n",
    "    shutil.rmtree(SOURCE_PATH)\n",
    "print(\"clean up done\")"
   ],
   "metadata": {
    "collapsed": false,
    "ExecuteTime": {
     "end_time": "2024-03-17T02:00:24.528388800Z",
     "start_time": "2024-03-17T02:00:24.383049600Z"
    }
   }
  },
  {
   "cell_type": "code",
   "execution_count": 9,
   "outputs": [
    {
     "name": "stdout",
     "output_type": "stream",
     "text": [
      "extract done\n"
     ]
    }
   ],
   "source": [
    "shutil.copytree(OUTPUT_DIR, EXECUTION_PATH)\n",
    "dataset_path = f\"{CONFIG.dataset_folder}/{DATASET}.zip\"\n",
    "with zipfile.ZipFile(dataset_path, 'r') as zip_ref:\n",
    "    zip_ref.extractall(PROJECT_PATH)\n",
    "print(\"extract done\")"
   ],
   "metadata": {
    "collapsed": false,
    "ExecuteTime": {
     "end_time": "2024-03-17T02:00:33.043681Z",
     "start_time": "2024-03-17T02:00:30.383591700Z"
    }
   }
  },
  {
   "cell_type": "code",
   "execution_count": 38,
   "outputs": [
    {
     "name": "stdout",
     "output_type": "stream",
     "text": [
      "b\"[INFO] Scanning for projects...\\r\\n[WARNING] \\r\\n[WARNING] Some problems were encountered while building the effective model for org.example:TestJavaCode:jar:1.0-SNAPSHOT\\r\\n[WARNING] 'build.plugins.plugin.version' for org.apache.maven.plugins:maven-surefire-plugin is missing. @ line 90, column 21\\r\\n[WARNING] \\r\\n[WARNING] It is highly recommended to fix these problems because they threaten the stability of your build.\\r\\n[WARNING] \\r\\n[WARNING] For this reason, future Maven versions might no longer support building such malformed projects.\\r\\n[WARNING] \\r\\n[INFO] \\r\\n[INFO] ----------------------< org.example:TestJavaCode >----------------------\\r\\n[INFO] Building TestJavaCode 1.0-SNAPSHOT\\r\\n[INFO]   from pom.xml\\r\\n[INFO] --------------------------------[ jar ]---------------------------------\\r\\n[INFO] \\r\\n[INFO] --- clover:4.5.1:setup (default-cli) @ TestJavaCode ---\\r\\n[INFO] OpenClover Version 4.5.1, built on 2023-10-29\\r\\n[INFO] Updating existing database at 'D:\\\\IDEA_Projects\\\\TestJavaCode\\\\target\\\\clover\\\\clover.db'.\\r\\n[INFO] Processing files at JAVA_8 source level.\\r\\n[INFO] Clover all over. Instrumented 78 files (9 packages).\\r\\n[INFO] OpenClover Version 4.5.1, built on 2023-10-29\\r\\n[INFO] Updating existing database at 'D:\\\\IDEA_Projects\\\\TestJavaCode\\\\target\\\\clover\\\\clover.db'.\\r\\n[INFO] Processing files at JAVA_8 source level.\\r\\n[INFO] Clover all over. Instrumented 1518 files (12 packages).\\r\\n[INFO] 2094 test methods detected.\\r\\n[INFO] \\r\\n[INFO] --- resources:3.3.1:resources (default-resources) @ TestJavaCode ---\\r\\n[INFO] skip non existing resourceDirectory D:\\\\IDEA_Projects\\\\TestJavaCode\\\\src\\\\main\\\\resources\\r\\n[INFO] Copying 1 resource from target\\\\classes\\\\groverconfig7058689378208760625 to target\\\\classes\\r\\n[INFO] \\r\\n[INFO] --- compiler:3.12.1:compile (default-compile) @ TestJavaCode ---\\r\\n[INFO] Compiling 78 source files with javac [debug target 8] to target\\\\classes\\r\\n[INFO] \\r\\n[INFO] --- resources:3.3.1:testResources (default-testResources) @ TestJavaCode ---\\r\\n[INFO] skip non existing resourceDirectory D:\\\\IDEA_Projects\\\\TestJavaCode\\\\src\\\\test\\\\resources\\r\\n[INFO] \\r\\n[INFO] --- compiler:3.12.1:testCompile (default-testCompile) @ TestJavaCode ---\\r\\n[INFO] Compiling 1518 source files with javac [debug target 8] to target\\\\test-classes\\r\\n[INFO] /D:/IDEA_Projects/TestJavaCode/target/clover/src-test-instrumented/org/apache/commons/lang3/time/DateUtils_truncate_528_Test.java: Some input files use or override a deprecated API.\\r\\n[INFO] /D:/IDEA_Projects/TestJavaCode/target/clover/src-test-instrumented/org/apache/commons/lang3/time/DateUtils_truncate_528_Test.java: Recompile with -Xlint:deprecation for details.\\r\\n[INFO] -------------------------------------------------------------\\r\\n[ERROR] COMPILATION ERROR : \\r\\n[INFO] -------------------------------------------------------------\\r\\n[ERROR] /D:/IDEA_Projects/TestJavaCode/target/clover/src-test-instrumented/org/apache/commons/lang3/text/StrTokenizer_setDelimiterMatcher_1376_Test.java:[4,37] cannot find symbol\\n  symbol:   class StrMatcher\\n  location: package org.apache.commons.lang3.text\\r\\n[ERROR] /D:/IDEA_Projects/TestJavaCode/target/clover/src-test-instrumented/org/apache/commons/lang3/text/StrTokenizer_setDelimiterMatcher_1376_Test.java:[5,37] cannot find symbol\\n  symbol:   class StrTokenizer\\n  location: package org.apache.commons.lang3.text\\r\\n[ERROR] /D:/IDEA_Projects/TestJavaCode/target/clover/src-test-instrumented/org/apache/commons/lang3/ObjectUtils_identityToString_1044_Test.java:[4,32] cannot find symbol\\n  symbol:   class ObjectUtils\\n  location: package org.apache.commons.lang3\\r\\n[ERROR] /D:/IDEA_Projects/TestJavaCode/target/clover/src-test-instrumented/org/apache/commons/lang3/ObjectUtils_identityToString_1044_Test.java:[5,37] cannot find symbol\\n  symbol:   class StrBuilder\\n  location: package org.apache.commons.lang3.text\\r\\n[ERROR] /D:/IDEA_Projects/TestJavaCode/target/clover/src-test-instrumented/org/apache/commons/lang3/builder/ReflectionToStringBuilder_toString_1105_Test.java:[4,40] cannot find symbol\\n  symbol:   class ReflectionToStringBuilder\\n  location: package org.apache.commons.lang3.builder\\r\\n[ERROR] /D:/IDEA_Projects/TestJavaCode/target/clover/src-test-instrumented/org/apache/commons/lang3/builder/ReflectionToStringBuilder_toString_1105_Test.java:[5,40] cannot find symbol\\n  symbol:   class ToStringStyle\\n  location: package org.apache.commons.lang3.builder\\r\\n[ERROR] /D:/IDEA_Projects/TestJavaCode/target/clover/src-test-instrumented/org/apache/commons/lang3/text/translate/NumericEntityEscaper_translate_1033_Test.java:[5,47] cannot find symbol\\n  symbol:   class NumericEntityEscaper\\n  location: package org.apache.commons.lang3.text.translate\\r\\n[ERROR] /D:/IDEA_Projects/TestJavaCode/target/clover/src-test-instrumented/org/apache/commons/lang3/exception/DefaultExceptionContext_getFormattedExceptionMessage_555_Test.java:[6,42] cannot find symbol\\n  symbol:   class DefaultExceptionContext\\n  location: package org.apache.commons.lang3.exception\\r\\n[ERROR] /D:/IDEA_Projects/TestJavaCode/target/clover/src-test-instrumented/org/apache/commons/lang3/exception/DefaultExceptionContext_getFormattedExceptionMessage_555_Test.java:[7,38] cannot find symbol\\n  symbol:   class ImmutablePair\\n  location: package org.apache.commons.lang3.tuple\\r\\n[ERROR] /D:/IDEA_Projects/TestJavaCode/target/clover/src-test-instrumented/org/apache/commons/lang3/exception/DefaultExceptionContext_getFormattedExceptionMessage_555_Test.java:[8,38] cannot find symbol\\n  symbol:   class Pair\\n  location: package org.apache.commons.lang3.tuple\\r\\n[ERROR] /D:/IDEA_Projects/TestJavaCode/target/clover/src-test-instrumented/org/apache/commons/lang3/reflect/MethodUtils_getAccessibleMethod_837_Test.java:[7,40] cannot find symbol\\n  symbol:   class MethodUtils\\n  location: package org.apache.commons.lang3.reflect\\r\\n[ERROR] /D:/IDEA_Projects/TestJavaCode/target/clover/src-test-instrumented/org/apache/commons/lang3/reflect/MethodUtils_getAccessibleMethod_838_Test.java:[7,40] cannot find symbol\\n  symbol:   class MethodUtils\\n  location: package org.apache.commons.lang3.reflect\\r\\n[ERROR] /D:/IDEA_Projects/TestJavaCode/target/clover/src-test-instrumented/org/apache/commons/lang3/math/Fraction_equals_761_Test.java:[4,37] cannot find symbol\\n  symbol:   class Fraction\\n  location: package org.apache.commons.lang3.math\\r\\n[ERROR] /D:/IDEA_Projects/TestJavaCode/target/clover/src-test-instrumented/org/apache/commons/lang3/reflect/ConstructorUtils_getAccessibleConstructor_420_Test.java:[7,40] cannot find symbol\\n  symbol:   class ConstructorUtils\\n  location: package org.apache.commons.lang3.reflect\\r\\n[ERROR] /D:/IDEA_Projects/TestJavaCode/target/clover/src-test-instrumented/org/apache/commons/lang3/text/StrBuilder_deleteAll_1271_Test.java:[4,37] cannot find symbol\\n  symbol:   class StrBuilder\\n  location: package org.apache.commons.lang3.text\\r\\n[ERROR] /D:/IDEA_Projects/TestJavaCode/target/clover/src-test-instrumented/org/apache/commons/lang3/text/StrBuilder_deleteAll_1271_Test.java:[5,37] cannot find symbol\\n  symbol:   class StrMatcher\\n  location: package org.apache.commons.lang3.text\\r\\n[ERROR] /D:/IDEA_Projects/TestJavaCode/target/clover/src-test-instrumented/org/apache/commons/lang3/builder/ToStringBuilder_reflectionToString_1603_Test.java:[27,54] cannot find symbol\\n  symbol:   class ToStringStyle\\n  location: class org.apache.commons.lang3.builder.ToStringBuilder_reflectionToString_1603_Test\\r\\n[ERROR] /D:/IDEA_Projects/TestJavaCode/target/clover/src-test-instrumented/org/apache/commons/lang3/concurrent/ConstantInitializer_get_411_Test.java:[4,43] cannot find symbol\\n  symbol:   class ConcurrentException\\n  location: package org.apache.commons.lang3.concurrent\\r\\n[ERROR] /D:/IDEA_Projects/TestJavaCode/target/clover/src-test-instrumented/org/apache/commons/lang3/reflect/ConstructorUtils_getAccessibleConstructor_419_Test.java:[7,40] cannot find symbol\\n  symbol:   class ConstructorUtils\\n  location: package org.apache.commons.lang3.reflect\\r\\n[ERROR] /D:/IDEA_Projects/TestJavaCode/target/clover/src-test-instrumented/org/apache/commons/lang3/reflect/ConstructorUtils_getMatchingAccessibleConstructor_421_Test.java:[7,40] cannot find symbol\\n  symbol:   class ConstructorUtils\\n  location: package org.apache.commons.lang3.reflect\\r\\n[ERROR] /D:/IDEA_Projects/TestJavaCode/target/clover/src-test-instrumented/org/apache/commons/lang3/ObjectUtils_identityToString_1045_Test.java:[6,32] cannot find symbol\\n  symbol:   class ObjectUtils\\n  location: package org.apache.commons.lang3\\r\\n[ERROR] /D:/IDEA_Projects/TestJavaCode/target/clover/src-test-instrumented/org/apache/commons/lang3/text/StrBuilder_replaceAll_1278_Test.java:[4,37] cannot find symbol\\n  symbol:   class StrBuilder\\n  location: package org.apache.commons.lang3.text\\r\\n[ERROR] /D:/IDEA_Projects/TestJavaCode/target/clover/src-test-instrumented/org/apache/commons/lang3/text/StrBuilder_replaceAll_1278_Test.java:[5,37] cannot find symbol\\n  symbol:   class StrMatcher\\n  location: package org.apache.commons.lang3.text\\r\\n[ERROR] /D:/IDEA_Projects/TestJavaCode/target/clover/src-test-instrumented/org/apache/commons/lang3/text/StrBuilder_deleteFirst_1272_Test.java:[4,37] cannot find symbol\\n  symbol:   class StrBuilder\\n  location: package org.apache.commons.lang3.text\\r\\n[ERROR] /D:/IDEA_Projects/TestJavaCode/target/clover/src-test-instrumented/org/apache/commons/lang3/text/StrBuilder_deleteFirst_1272_Test.java:[5,37] cannot find symbol\\n  symbol:   class StrMatcher\\n  location: package org.apache.commons.lang3.text\\r\\n[ERROR] /D:/IDEA_Projects/TestJavaCode/target/clover/src-test-instrumented/org/apache/commons/lang3/StringUtils_join_1502_Test.java:[8,32] cannot find symbol\\n  symbol:   class StringUtils\\n  location: package org.apache.commons.lang3\\r\\n[ERROR] /D:/IDEA_Projects/TestJavaCode/target/clover/src-test-instrumented/org/apache/commons/lang3/text/StrSubstitutor_replace_1329_Test.java:[5,37] cannot find symbol\\n  symbol:   class StrBuilder\\n  location: package org.apache.commons.lang3.text\\r\\n[ERROR] /D:/IDEA_Projects/TestJavaCode/target/clover/src-test-instrumented/org/apache/commons/lang3/text/StrSubstitutor_getVariableResolver_1348_Test.java:[5,37] cannot find symbol\\n  symbol:   class StrLookup\\n  location: package org.apache.commons.lang3.text\\r\\n[ERROR] /D:/IDEA_Projects/TestJavaCode/target/clover/src-test-instrumented/org/apache/commons/lang3/text/StrSubstitutor_getVariableResolver_1348_Test.java:[6,37] cannot find symbol\\n  symbol:   class StrSubstitutor\\n  location: package org.apache.commons.lang3.text\\r\\n[ERROR] /D:/IDEA_Projects/TestJavaCode/target/clover/src-test-instrumented/org/apache/commons/lang3/text/StrTokenizer_setTrimmerMatcher_1386_Test.java:[4,37] cannot find symbol\\n  symbol:   class StrMatcher\\n  location: package org.apache.commons.lang3.text\\r\\n[ERROR] /D:/IDEA_Projects/TestJavaCode/target/clover/src-test-instrumented/org/apache/commons/lang3/text/StrTokenizer_setTrimmerMatcher_1386_Test.java:[5,37] cannot find symbol\\n  symbol:   class StrTokenizer\\n  location: package org.apache.commons.lang3.text\\r\\n[ERROR] /D:/IDEA_Projects/TestJavaCode/target/clover/src-test-instrumented/org/apache/commons/lang3/text/StrTokenizer_getIgnoredMatcher_1382_Test.java:[4,37] cannot find symbol\\n  symbol:   class StrMatcher\\n  location: package org.apache.commons.lang3.text\\r\\n[ERROR] /D:/IDEA_Projects/TestJavaCode/target/clover/src-test-instrumented/org/apache/commons/lang3/text/StrTokenizer_setIgnoredMatcher_1383_Test.java:[4,37] cannot find symbol\\n  symbol:   class StrMatcher\\n  location: package org.apache.commons.lang3.text\\r\\n[ERROR] /D:/IDEA_Projects/TestJavaCode/target/clover/src-test-instrumented/org/apache/commons/lang3/text/StrTokenizer_setIgnoredMatcher_1383_Test.java:[5,37] cannot find symbol\\n  symbol:   class StrTokenizer\\n  location: package org.apache.commons.lang3.text\\r\\n[ERROR] /D:/IDEA_Projects/TestJavaCode/target/clover/src-test-instrumented/org/apache/commons/lang3/event/EventListenerSupport_create_611_Test.java:[6,38] cannot find symbol\\n  symbol:   class EventListenerSupport\\n  location: package org.apache.commons.lang3.event\\r\\n[ERROR] /D:/IDEA_Projects/TestJavaCode/target/clover/src-test-instrumented/org/apache/commons/lang3/LocaleUtils_countriesByLanguage_827_Test.java:[5,32] cannot find symbol\\n  symbol:   class LocaleUtils\\n  location: package org.apache.commons.lang3\\r\\n[ERROR] /D:/IDEA_Projects/TestJavaCode/target/clover/src-test-instrumented/org/apache/commons/lang3/text/StrSubstitutor_setVariableResolver_1349_Test.java:[4,37] cannot find symbol\\n  symbol:   class StrLookup\\n  location: package org.apache.commons.lang3.text\\r\\n[ERROR] /D:/IDEA_Projects/TestJavaCode/target/clover/src-test-instrumented/org/apache/commons/lang3/text/StrSubstitutor_setVariableResolver_1349_Test.java:[5,37] cannot find symbol\\n  symbol:   class StrSubstitutor\\n  location: package org.apache.commons.lang3.text\\r\\n[ERROR] /D:/IDEA_Projects/TestJavaCode/target/clover/src-test-instrumented/org/apache/commons/lang3/text/StrTokenizer_setQuoteMatcher_1380_Test.java:[4,37] cannot find symbol\\n  symbol:   class StrMatcher\\n  location: package org.apache.commons.lang3.text\\r\\n[ERROR] /D:/IDEA_Projects/TestJavaCode/target/clover/src-test-instrumented/org/apache/commons/lang3/text/StrTokenizer_setQuoteMatcher_1380_Test.java:[5,37] cannot find symbol\\n  symbol:   class StrTokenizer\\n  location: package org.apache.commons.lang3.text\\r\\n[ERROR] /D:/IDEA_Projects/TestJavaCode/target/clover/src-test-instrumented/org/apache/commons/lang3/text/StrSubstitutor_setVariableSuffix_1347_Test.java:[8,37] cannot find symbol\\n  symbol:   class StrSubstitutor\\n  location: package org.apache.commons.lang3.text\\r\\n[ERROR] /D:/IDEA_Projects/TestJavaCode/target/clover/src-test-instrumented/org/apache/commons/lang3/text/StrSubstitutor_setVariableSuffix_1347_Test.java:[9,37] cannot find symbol\\n  symbol:   class StrMatcher\\n  location: package org.apache.commons.lang3.text\\r\\n[ERROR] /D:/IDEA_Projects/TestJavaCode/target/clover/src-test-instrumented/org/apache/commons/lang3/exception/ContextedRuntimeException_getContextEntries_435_Test.java:[5,42] cannot find symbol\\n  symbol:   class ContextedRuntimeException\\n  location: package org.apache.commons.lang3.exception\\r\\n[ERROR] /D:/IDEA_Projects/TestJavaCode/target/clover/src-test-instrumented/org/apache/commons/lang3/exception/ContextedRuntimeException_getContextEntries_435_Test.java:[6,38] cannot find symbol\\n  symbol:   class Pair\\n  location: package org.apache.commons.lang3.tuple\\r\\n[ERROR] /D:/IDEA_Projects/TestJavaCode/target/clover/src-test-instrumented/org/apache/commons/lang3/text/StrSubstitutor_setEscapeChar_1339_Test.java:[8,37] cannot find symbol\\n  symbol:   class StrSubstitutor\\n  location: package org.apache.commons.lang3.text\\r\\n[ERROR] /D:/IDEA_Projects/TestJavaCode/target/clover/src-test-instrumented/org/apache/commons/lang3/reflect/FieldUtils_getAllFieldsList_709_Test.java:[8,40] cannot find symbol\\n  symbol:   class FieldUtils\\n  location: package org.apache.commons.lang3.reflect\\r\\n[ERROR] /D:/IDEA_Projects/TestJavaCode/target/clover/src-test-instrumented/org/apache/commons/lang3/text/StrSubstitutor_replaceIn_1337_Test.java:[5,37] cannot find symbol\\n  symbol:   class StrBuilder\\n  location: package org.apache.commons.lang3.text\\r\\n[ERROR] /D:/IDEA_Projects/TestJavaCode/target/clover/src-test-instrumented/org/apache/commons/lang3/text/StrSubstitutor_replaceIn_1337_Test.java:[6,37] cannot find symbol\\n  symbol:   class StrSubstitutor\\n  location: package org.apache.commons.lang3.text\\r\\n[ERROR] /D:/IDEA_Projects/TestJavaCode/target/clover/src-test-instrumented/org/apache/commons/lang3/exception/ExceptionUtils_indexOfType_627_Test.java:[6,42] cannot find symbol\\n  symbol:   class ExceptionUtils\\n  location: package org.apache.commons.lang3.exception\\r\\n[ERROR] /D:/IDEA_Projects/TestJavaCode/target/clover/src-test-instrumented/org/apache/commons/lang3/reflect/FieldUtils_getField_704_Test.java:[7,40] cannot find symbol\\n  symbol:   class FieldUtils\\n  location: package org.apache.commons.lang3.reflect\\r\\n[ERROR] /D:/IDEA_Projects/TestJavaCode/target/clover/src-test-instrumented/org/apache/commons/lang3/exception/ContextedException_getContextEntries_426_Test.java:[6,42] cannot find symbol\\n  symbol:   class ContextedException\\n  location: package org.apache.commons.lang3.exception\\r\\n[ERROR] /D:/IDEA_Projects/TestJavaCode/target/clover/src-test-instrumented/org/apache/commons/lang3/exception/ContextedException_getContextEntries_426_Test.java:[7,38] cannot find symbol\\n  symbol:   class Pair\\n  location: package org.apache.commons.lang3.tuple\\r\\n[ERROR] /D:/IDEA_Projects/TestJavaCode/target/clover/src-test-instrumented/org/apache/commons/lang3/text/translate/LookupTranslator_translate_828_Test.java:[5,47] cannot find symbol\\n  symbol:   class LookupTranslator\\n  location: package org.apache.commons.lang3.text.translate\\r\\n[ERROR] /D:/IDEA_Projects/TestJavaCode/target/clover/src-test-instrumented/org/apache/commons/lang3/EnumUtils_processBitVectors_584_Test.java:[5,32] cannot find symbol\\n  symbol:   class EnumUtils\\n  location: package org.apache.commons.lang3\\r\\n[ERROR] /D:/IDEA_Projects/TestJavaCode/target/clover/src-test-instrumented/org/apache/commons/lang3/reflect/FieldUtils_getAllFields_708_Test.java:[7,40] cannot find symbol\\n  symbol:   class FieldUtils\\n  location: package org.apache.commons.lang3.reflect\\r\\n[ERROR] /D:/IDEA_Projects/TestJavaCode/target/clover/src-test-instrumented/org/apache/commons/lang3/text/StrTokenizer_size_1358_Test.java:[6,37] cannot find symbol\\n  symbol:   class StrMatcher\\n  location: package org.apache.commons.lang3.text\\r\\n[ERROR] /D:/IDEA_Projects/TestJavaCode/target/clover/src-test-instrumented/org/apache/commons/lang3/text/StrTokenizer_size_1358_Test.java:[7,37] cannot find symbol\\n  symbol:   class StrTokenizer\\n  location: package org.apache.commons.lang3.text\\r\\n[ERROR] /D:/IDEA_Projects/TestJavaCode/target/clover/src-test-instrumented/org/apache/commons/lang3/exception/ExceptionUtils_printRootCauseStackTrace_631_Test.java:[5,42] cannot find symbol\\n  symbol:   class ExceptionUtils\\n  location: package org.apache.commons.lang3.exception\\r\\n[ERROR] /D:/IDEA_Projects/TestJavaCode/target/clover/src-test-instrumented/org/apache/commons/lang3/text/StrSubstitutor_replaceIn_1336_Test.java:[6,37] cannot find symbol\\n  symbol:   class StrBuilder\\n  location: package org.apache.commons.lang3.text\\r\\n[ERROR] /D:/IDEA_Projects/TestJavaCode/target/clover/src-test-instrumented/org/apache/commons/lang3/text/StrSubstitutor_replaceIn_1336_Test.java:[7,37] cannot find symbol\\n  symbol:   class StrSubstitutor\\n  location: package org.apache.commons.lang3.text\\r\\n[ERROR] /D:/IDEA_Projects/TestJavaCode/target/clover/src-test-instrumented/org/apache/commons/lang3/concurrent/ConcurrentUtils_initialize_404_Test.java:[4,43] cannot find symbol\\n  symbol:   class ConcurrentException\\n  location: package org.apache.commons.lang3.concurrent\\r\\n[ERROR] /D:/IDEA_Projects/TestJavaCode/target/clover/src-test-instrumented/org/apache/commons/lang3/concurrent/ConcurrentUtils_initialize_404_Test.java:[5,43] cannot find symbol\\n  symbol:   class ConcurrentInitializer\\n  location: package org.apache.commons.lang3.concurrent\\r\\n[ERROR] /D:/IDEA_Projects/TestJavaCode/target/clover/src-test-instrumented/org/apache/commons/lang3/text/ExtendedMessageFormat_applyPattern_639_Test.java:[57,55] cannot find symbol\\n  symbol:   class FormatFactory\\n  location: class org.apache.commons.lang3.text.ExtendedMessageFormat_applyPattern_639_Test\\r\\n[ERROR] /D:/IDEA_Projects/TestJavaCode/target/clover/src-test-instrumented/org/apache/commons/lang3/LocaleUtils_languagesByCountry_826_Test.java:[5,32] cannot find symbol\\n  symbol:   class LocaleUtils\\n  location: package org.apache.commons.lang3\\r\\n[ERROR] /D:/IDEA_Projects/TestJavaCode/target/clover/src-test-instrumented/org/apache/commons/lang3/exception/ContextedRuntimeException_getFirstContextValue_434_Test.java:[8,38] cannot find symbol\\n  symbol:   class Pair\\n  location: package org.apache.commons.lang3.tuple\\r\\n[ERROR] /D:/IDEA_Projects/TestJavaCode/target/clover/src-test-instrumented/org/apache/commons/lang3/exception/DefaultExceptionContext_getContextEntries_554_Test.java:[6,38] cannot find symbol\\n  symbol:   class Pair\\n  location: package org.apache.commons.lang3.tuple\\r\\n[ERROR] /D:/IDEA_Projects/TestJavaCode/target/clover/src-test-instrumented/org/apache/commons/lang3/time/FastDateFormat_getDateInstance_651_Test.java:[8,37] cannot find symbol\\n  symbol:   class FastDateFormat\\n  location: package org.apache.commons.lang3.time\\r\\n[ERROR] /D:/IDEA_Projects/TestJavaCode/target/clover/src-test-instrumented/org/apache/commons/lang3/builder/ToStringBuilder_setDefaultStyle_1601_Test.java:[4,40] cannot find symbol\\n  symbol:   class ToStringBuilder\\n  location: package org.apache.commons.lang3.builder\\r\\n[ERROR] /D:/IDEA_Projects/TestJavaCode/target/clover/src-test-instrumented/org/apache/commons/lang3/builder/ToStringBuilder_setDefaultStyle_1601_Test.java:[5,40] cannot find symbol\\n  symbol:   class ToStringStyle\\n  location: package org.apache.commons.lang3.builder\\r\\n[ERROR] /D:/IDEA_Projects/TestJavaCode/target/clover/src-test-instrumented/org/apache/commons/lang3/ArrayUtils_reverse_63_Test.java:[13,50] cannot find symbol\\n  symbol:   variable ArrayUtils\\n  location: class org.apache.commons.lang3.ArrayUtils_reverse_63_Test\\r\\n[ERROR] /D:/IDEA_Projects/TestJavaCode/target/clover/src-test-instrumented/org/apache/commons/lang3/ArrayUtils_reverse_63_Test.java:[19,50] cannot find symbol\\n  symbol:   variable ArrayUtils\\n  location: class org.apache.commons.lang3.ArrayUtils_reverse_63_Test\\r\\n[ERROR] /D:/IDEA_Projects/TestJavaCode/target/clover/src-test-instrumented/org/apache/commons/lang3/ArrayUtils_reverse_63_Test.java:[25,50] cannot find symbol\\n  symbol:   variable ArrayUtils\\n  location: class org.apache.commons.lang3.ArrayUtils_reverse_63_Test\\r\\n[ERROR] /D:/IDEA_Projects/TestJavaCode/target/clover/src-test-instrumented/org/apache/commons/lang3/text/StrBuilder_getNewLineText_1180_Test.java:[12,50] cannot find symbol\\n  symbol:   class StrBuilder\\n  location: class org.apache.commons.lang3.text.StrBuilder_getNewLineText_1180_Test\\r\\n[ERROR] /D:/IDEA_Projects/TestJavaCode/target/clover/src-test-instrumented/org/apache/commons/lang3/text/StrBuilder_getNewLineText_1180_Test.java:[12,79] cannot find symbol\\n  symbol:   class StrBuilder\\n  location: class org.apache.commons.lang3.text.StrBuilder_getNewLineText_1180_Test\\r\\n[ERROR] /D:/IDEA_Projects/TestJavaCode/target/clover/src-test-instrumented/org/apache/commons/lang3/text/StrBuilder_getNewLineText_1180_Test.java:[16,50] cannot find symbol\\n  symbol:   class StrBuilder\\n  location: class org.apache.commons.lang3.text.StrBuilder_getNewLineText_1180_Test\\r\\n[ERROR] /D:/IDEA_Projects/TestJavaCode/target/clover/src-test-instrumented/org/apache/commons/lang3/text/StrBuilder_getNewLineText_1180_Test.java:[16,79] cannot find symbol\\n  symbol:   class StrBuilder\\n  location: class org.apache.commons.lang3.text.StrBuilder_getNewLineText_1180_Test\\r\\n[ERROR] /D:/IDEA_Projects/TestJavaCode/target/clover/src-test-instrumented/org/apache/commons/lang3/time/DateUtils_addMinutes_512_Test.java:[19,65] cannot find symbol\\n  symbol:   variable DateUtils\\n  location: class org.apache.commons.lang3.time.DateUtils_addMinutes_512_Test\\r\\n[ERROR] /D:/IDEA_Projects/TestJavaCode/target/clover/src-test-instrumented/org/apache/commons/lang3/time/DateUtils_addMinutes_512_Test.java:[25,65] cannot find symbol\\n  symbol:   variable DateUtils\\n  location: class org.apache.commons.lang3.time.DateUtils_addMinutes_512_Test\\r\\n[ERROR] /D:/IDEA_Projects/TestJavaCode/target/clover/src-test-instrumented/org/apache/commons/lang3/time/DateUtils_addMinutes_512_Test.java:[31,65] cannot find symbol\\n  symbol:   variable DateUtils\\n  location: class org.apache.commons.lang3.time.DateUtils_addMinutes_512_Test\\r\\n[ERROR] /D:/IDEA_Projects/TestJavaCode/target/clover/src-test-instrumented/org/apache/commons/lang3/ArrayUtils_lastIndexOf_89_Test.java:[14,66] cannot find symbol\\n  symbol:   variable ArrayUtils\\n  location: class org.apache.commons.lang3.ArrayUtils_lastIndexOf_89_Test\\r\\n[ERROR] /D:/IDEA_Projects/TestJavaCode/target/clover/src-test-instrumented/org/apache/commons/lang3/text/StrTokenizer_setDelimiterMatcher_1376_Test.java:[14,50] cannot find symbol\\n  symbol:   class StrTokenizer\\n  location: class org.apache.commons.lang3.text.StrTokenizer_setDelimiterMatcher_1376_Test\\r\\n[ERROR] /D:/IDEA_Projects/TestJavaCode/target/clover/src-test-instrumented/org/apache/commons/lang3/text/StrTokenizer_setDelimiterMatcher_1376_Test.java:[14,79] cannot find symbol\\n  symbol:   class StrTokenizer\\n  location: class org.apache.commons.lang3.text.StrTokenizer_setDelimiterMatcher_1376_Test\\r\\n[ERROR] /D:/IDEA_Projects/TestJavaCode/target/clover/src-test-instrumented/org/apache/commons/lang3/text/StrTokenizer_setDelimiterMatcher_1376_Test.java:[17,80] cannot find symbol\\n  symbol:   variable StrMatcher\\n  location: class org.apache.commons.lang3.text.StrTokenizer_setDelimiterMatcher_1376_Test\\r\\n[ERROR] /D:/IDEA_Projects/TestJavaCode/target/clover/src-test-instrumented/org/apache/commons/lang3/SystemUtils_getJavaIoTmpDir_1584_Test.java:[12,64] cannot find symbol\\n  symbol:   variable SystemUtils\\n  location: class org.apache.commons.lang3.SystemUtils_getJavaIoTmpDir_1584_Test\\r\\n[ERROR] /D:/IDEA_Projects/TestJavaCode/target/clover/src-test-instrumented/org/apache/commons/lang3/BooleanUtils_toStringYesNo_273_Test.java:[17,70] cannot find symbol\\n  symbol:   variable BooleanUtils\\n  location: class org.apache.commons.lang3.BooleanUtils_toStringYesNo_273_Test\\r\\n[ERROR] /D:/IDEA_Projects/TestJavaCode/target/clover/src-test-instrumented/org/apache/commons/lang3/BooleanUtils_toStringYesNo_273_Test.java:[20,69] cannot find symbol\\n  symbol:   variable BooleanUtils\\n  location: class org.apache.commons.lang3.BooleanUtils_toStringYesNo_273_Test\\r\\n[ERROR] /D:/IDEA_Projects/TestJavaCode/target/clover/src-test-instrumented/org/apache/commons/lang3/BooleanUtils_toStringYesNo_273_Test.java:[23,61] cannot find symbol\\n  symbol:   variable BooleanUtils\\n  location: class org.apache.commons.lang3.BooleanUtils_toStringYesNo_273_Test\\r\\n[ERROR] /D:/IDEA_Projects/TestJavaCode/target/clover/src-test-instrumented/org/apache/commons/lang3/reflect/ConstructorUtils_invokeConstructor_416_Test.java:[13,67] cannot find symbol\\n  symbol:   variable ConstructorUtils\\n  location: class org.apache.commons.lang3.reflect.ConstructorUtils_invokeConstructor_416_Test\\r\\n[ERROR] /D:/IDEA_Projects/TestJavaCode/target/clover/src-test-instrumented/org/apache/commons/lang3/reflect/ConstructorUtils_invokeConstructor_416_Test.java:[17,67] cannot find symbol\\n  symbol:   variable ConstructorUtils\\n  location: class org.apache.commons.lang3.reflect.ConstructorUtils_invokeConstructor_416_Test\\r\\n[ERROR] /D:/IDEA_Projects/TestJavaCode/target/clover/src-test-instrumented/org/apache/commons/lang3/reflect/ConstructorUtils_invokeConstructor_416_Test.java:[21,67] cannot find symbol\\n  symbol:   variable ConstructorUtils\\n  location: class org.apache.commons.lang3.reflect.ConstructorUtils_invokeConstructor_416_Test\\r\\n[ERROR] /D:/IDEA_Projects/TestJavaCode/target/clover/src-test-instrumented/org/apache/commons/lang3/reflect/ConstructorUtils_invokeConstructor_416_Test.java:[26,54] cannot find symbol\\n  symbol:   variable ConstructorUtils\\n  location: class org.apache.commons.lang3.reflect.ConstructorUtils_invokeConstructor_416_Test\\r\\n[ERROR] /D:/IDEA_Projects/TestJavaCode/target/clover/src-test-instrumented/org/apache/commons/lang3/ClassUtils_isInnerClass_354_Test.java:[12,62] cannot find symbol\\n  symbol:   variable ClassUtils\\n  location: class org.apache.commons.lang3.ClassUtils_isInnerClass_354_Test\\r\\n[ERROR] /D:/IDEA_Projects/TestJavaCode/target/clover/src-test-instrumented/org/apache/commons/lang3/ClassUtils_isInnerClass_354_Test.java:[15,62] cannot find symbol\\n  symbol:   variable ClassUtils\\n  location: class org.apache.commons.lang3.ClassUtils_isInnerClass_354_Test\\r\\n[ERROR] /D:/IDEA_Projects/TestJavaCode/target/clover/src-test-instrumented/org/apache/commons/lang3/ClassUtils_isInnerClass_354_Test.java:[18,62] cannot find symbol\\n  symbol:   variable ClassUtils\\n  location: class org.apache.commons.lang3.ClassUtils_isInnerClass_354_Test\\r\\n[ERROR] /D:/IDEA_Projects/TestJavaCode/target/clover/src-test-instrumented/org/apache/commons/lang3/mutable/MutableInt_equals_925_Test.java:[11,50] cannot find symbol\\n  symbol:   class MutableInt\\n  location: class org.apache.commons.lang3.mutable.MutableInt_equals_925_Test\\r\\n[ERROR] /D:/IDEA_Projects/TestJavaCode/target/clover/src-test-instrumented/org/apache/commons/lang3/mutable/MutableInt_equals_925_Test.java:[11,78] cannot find symbol\\n  symbol:   class MutableInt\\n  location: class org.apache.commons.lang3.mutable.MutableInt_equals_925_Test\\r\\n[ERROR] /D:/IDEA_Projects/TestJavaCode/target/clover/src-test-instrumented/org/apache/commons/lang3/mutable/MutableInt_equals_925_Test.java:[17,50] cannot find symbol\\n  symbol:   class MutableInt\\n  location: class org.apache.commons.lang3.mutable.MutableInt_equals_925_Test\\r\\n[ERROR] /D:/IDEA_Projects/TestJavaCode/target/clover/src-test-instrumented/org/apache/commons/lang3/mutable/MutableInt_equals_925_Test.java:[17,78] cannot find symbol\\n  symbol:   class MutableInt\\n  location: class org.apache.commons.lang3.mutable.MutableInt_equals_925_Test\\r\\n[ERROR] /D:/IDEA_Projects/TestJavaCode/target/clover/src-test-instrumented/org/apache/commons/lang3/mutable/MutableInt_equals_925_Test.java:[23,50] cannot find symbol\\n  symbol:   class MutableInt\\n  location: class org.apache.commons.lang3.mutable.MutableInt_equals_925_Test\\r\\n[ERROR] /D:/IDEA_Projects/TestJavaCode/target/clover/src-test-instrumented/org/apache/commons/lang3/mutable/MutableInt_equals_925_Test.java:[23,78] cannot find symbol\\n  symbol:   class MutableInt\\n  location: class org.apache.commons.lang3.mutable.MutableInt_equals_925_Test\\r\\n[INFO] 100 errors \\r\\n[INFO] -------------------------------------------------------------\\r\\n[INFO] \\r\\n[INFO] ------------------------------------------------------------------------\\r\\n[INFO] Skipping TestJavaCode\\r\\n[INFO] This project has been banned from the build due to previous failures.\\r\\n[INFO] ------------------------------------------------------------------------\\r\\n[INFO] \\r\\n[INFO] ------------------------------------------------------------------------\\r\\n[INFO] Skipping TestJavaCode\\r\\n[INFO] This project has been banned from the build due to previous failures.\\r\\n[INFO] ------------------------------------------------------------------------\\r\\n[INFO] ------------------------------------------------------------------------\\r\\n[INFO] BUILD FAILURE\\r\\n[INFO] ------------------------------------------------------------------------\\r\\n[INFO] Total time:  10.940 s\\r\\n[INFO] Finished at: 2024-03-16T17:02:10+08:00\\r\\n[INFO] ------------------------------------------------------------------------\\r\\n[ERROR] Failed to execute goal org.apache.maven.plugins:maven-compiler-plugin:3.12.1:testCompile (default-testCompile) on project TestJavaCode: Compilation failure: Compilation failure: \\r\\n[ERROR] /D:/IDEA_Projects/TestJavaCode/target/clover/src-test-instrumented/org/apache/commons/lang3/text/StrTokenizer_setDelimiterMatcher_1376_Test.java:[4,37] cannot find symbol\\r\\n[ERROR]   symbol:   class StrMatcher\\r\\n[ERROR]   location: package org.apache.commons.lang3.text\\r\\n[ERROR] /D:/IDEA_Projects/TestJavaCode/target/clover/src-test-instrumented/org/apache/commons/lang3/text/StrTokenizer_setDelimiterMatcher_1376_Test.java:[5,37] cannot find symbol\\r\\n[ERROR]   symbol:   class StrTokenizer\\r\\n[ERROR]   location: package org.apache.commons.lang3.text\\r\\n[ERROR] /D:/IDEA_Projects/TestJavaCode/target/clover/src-test-instrumented/org/apache/commons/lang3/ObjectUtils_identityToString_1044_Test.java:[4,32] cannot find symbol\\r\\n[ERROR]   symbol:   class ObjectUtils\\r\\n[ERROR]   location: package org.apache.commons.lang3\\r\\n[ERROR] /D:/IDEA_Projects/TestJavaCode/target/clover/src-test-instrumented/org/apache/commons/lang3/ObjectUtils_identityToString_1044_Test.java:[5,37] cannot find symbol\\r\\n[ERROR]   symbol:   class StrBuilder\\r\\n[ERROR]   location: package org.apache.commons.lang3.text\\r\\n[ERROR] /D:/IDEA_Projects/TestJavaCode/target/clover/src-test-instrumented/org/apache/commons/lang3/builder/ReflectionToStringBuilder_toString_1105_Test.java:[4,40] cannot find symbol\\r\\n[ERROR]   symbol:   class ReflectionToStringBuilder\\r\\n[ERROR]   location: package org.apache.commons.lang3.builder\\r\\n[ERROR] /D:/IDEA_Projects/TestJavaCode/target/clover/src-test-instrumented/org/apache/commons/lang3/builder/ReflectionToStringBuilder_toString_1105_Test.java:[5,40] cannot find symbol\\r\\n[ERROR]   symbol:   class ToStringStyle\\r\\n[ERROR]   location: package org.apache.commons.lang3.builder\\r\\n[ERROR] /D:/IDEA_Projects/TestJavaCode/target/clover/src-test-instrumented/org/apache/commons/lang3/text/translate/NumericEntityEscaper_translate_1033_Test.java:[5,47] cannot find symbol\\r\\n[ERROR]   symbol:   class NumericEntityEscaper\\r\\n[ERROR]   location: package org.apache.commons.lang3.text.translate\\r\\n[ERROR] /D:/IDEA_Projects/TestJavaCode/target/clover/src-test-instrumented/org/apache/commons/lang3/exception/DefaultExceptionContext_getFormattedExceptionMessage_555_Test.java:[6,42] cannot find symbol\\r\\n[ERROR]   symbol:   class DefaultExceptionContext\\r\\n[ERROR]   location: package org.apache.commons.lang3.exception\\r\\n[ERROR] /D:/IDEA_Projects/TestJavaCode/target/clover/src-test-instrumented/org/apache/commons/lang3/exception/DefaultExceptionContext_getFormattedExceptionMessage_555_Test.java:[7,38] cannot find symbol\\r\\n[ERROR]   symbol:   class ImmutablePair\\r\\n[ERROR]   location: package org.apache.commons.lang3.tuple\\r\\n[ERROR] /D:/IDEA_Projects/TestJavaCode/target/clover/src-test-instrumented/org/apache/commons/lang3/exception/DefaultExceptionContext_getFormattedExceptionMessage_555_Test.java:[8,38] cannot find symbol\\r\\n[ERROR]   symbol:   class Pair\\r\\n[ERROR]   location: package org.apache.commons.lang3.tuple\\r\\n[ERROR] /D:/IDEA_Projects/TestJavaCode/target/clover/src-test-instrumented/org/apache/commons/lang3/reflect/MethodUtils_getAccessibleMethod_837_Test.java:[7,40] cannot find symbol\\r\\n[ERROR]   symbol:   class MethodUtils\\r\\n[ERROR]   location: package org.apache.commons.lang3.reflect\\r\\n[ERROR] /D:/IDEA_Projects/TestJavaCode/target/clover/src-test-instrumented/org/apache/commons/lang3/reflect/MethodUtils_getAccessibleMethod_838_Test.java:[7,40] cannot find symbol\\r\\n[ERROR]   symbol:   class MethodUtils\\r\\n[ERROR]   location: package org.apache.commons.lang3.reflect\\r\\n[ERROR] /D:/IDEA_Projects/TestJavaCode/target/clover/src-test-instrumented/org/apache/commons/lang3/math/Fraction_equals_761_Test.java:[4,37] cannot find symbol\\r\\n[ERROR]   symbol:   class Fraction\\r\\n[ERROR]   location: package org.apache.commons.lang3.math\\r\\n[ERROR] /D:/IDEA_Projects/TestJavaCode/target/clover/src-test-instrumented/org/apache/commons/lang3/reflect/ConstructorUtils_getAccessibleConstructor_420_Test.java:[7,40] cannot find symbol\\r\\n[ERROR]   symbol:   class ConstructorUtils\\r\\n[ERROR]   location: package org.apache.commons.lang3.reflect\\r\\n[ERROR] /D:/IDEA_Projects/TestJavaCode/target/clover/src-test-instrumented/org/apache/commons/lang3/text/StrBuilder_deleteAll_1271_Test.java:[4,37] cannot find symbol\\r\\n[ERROR]   symbol:   class StrBuilder\\r\\n[ERROR]   location: package org.apache.commons.lang3.text\\r\\n[ERROR] /D:/IDEA_Projects/TestJavaCode/target/clover/src-test-instrumented/org/apache/commons/lang3/text/StrBuilder_deleteAll_1271_Test.java:[5,37] cannot find symbol\\r\\n[ERROR]   symbol:   class StrMatcher\\r\\n[ERROR]   location: package org.apache.commons.lang3.text\\r\\n[ERROR] /D:/IDEA_Projects/TestJavaCode/target/clover/src-test-instrumented/org/apache/commons/lang3/builder/ToStringBuilder_reflectionToString_1603_Test.java:[27,54] cannot find symbol\\r\\n[ERROR]   symbol:   class ToStringStyle\\r\\n[ERROR]   location: class org.apache.commons.lang3.builder.ToStringBuilder_reflectionToString_1603_Test\\r\\n[ERROR] /D:/IDEA_Projects/TestJavaCode/target/clover/src-test-instrumented/org/apache/commons/lang3/concurrent/ConstantInitializer_get_411_Test.java:[4,43] cannot find symbol\\r\\n[ERROR]   symbol:   class ConcurrentException\\r\\n[ERROR]   location: package org.apache.commons.lang3.concurrent\\r\\n[ERROR] /D:/IDEA_Projects/TestJavaCode/target/clover/src-test-instrumented/org/apache/commons/lang3/reflect/ConstructorUtils_getAccessibleConstructor_419_Test.java:[7,40] cannot find symbol\\r\\n[ERROR]   symbol:   class ConstructorUtils\\r\\n[ERROR]   location: package org.apache.commons.lang3.reflect\\r\\n[ERROR] /D:/IDEA_Projects/TestJavaCode/target/clover/src-test-instrumented/org/apache/commons/lang3/reflect/ConstructorUtils_getMatchingAccessibleConstructor_421_Test.java:[7,40] cannot find symbol\\r\\n[ERROR]   symbol:   class ConstructorUtils\\r\\n[ERROR]   location: package org.apache.commons.lang3.reflect\\r\\n[ERROR] /D:/IDEA_Projects/TestJavaCode/target/clover/src-test-instrumented/org/apache/commons/lang3/ObjectUtils_identityToString_1045_Test.java:[6,32] cannot find symbol\\r\\n[ERROR]   symbol:   class ObjectUtils\\r\\n[ERROR]   location: package org.apache.commons.lang3\\r\\n[ERROR] /D:/IDEA_Projects/TestJavaCode/target/clover/src-test-instrumented/org/apache/commons/lang3/text/StrBuilder_replaceAll_1278_Test.java:[4,37] cannot find symbol\\r\\n[ERROR]   symbol:   class StrBuilder\\r\\n[ERROR]   location: package org.apache.commons.lang3.text\\r\\n[ERROR] /D:/IDEA_Projects/TestJavaCode/target/clover/src-test-instrumented/org/apache/commons/lang3/text/StrBuilder_replaceAll_1278_Test.java:[5,37] cannot find symbol\\r\\n[ERROR]   symbol:   class StrMatcher\\r\\n[ERROR]   location: package org.apache.commons.lang3.text\\r\\n[ERROR] /D:/IDEA_Projects/TestJavaCode/target/clover/src-test-instrumented/org/apache/commons/lang3/text/StrBuilder_deleteFirst_1272_Test.java:[4,37] cannot find symbol\\r\\n[ERROR]   symbol:   class StrBuilder\\r\\n[ERROR]   location: package org.apache.commons.lang3.text\\r\\n[ERROR] /D:/IDEA_Projects/TestJavaCode/target/clover/src-test-instrumented/org/apache/commons/lang3/text/StrBuilder_deleteFirst_1272_Test.java:[5,37] cannot find symbol\\r\\n[ERROR]   symbol:   class StrMatcher\\r\\n[ERROR]   location: package org.apache.commons.lang3.text\\r\\n[ERROR] /D:/IDEA_Projects/TestJavaCode/target/clover/src-test-instrumented/org/apache/commons/lang3/StringUtils_join_1502_Test.java:[8,32] cannot find symbol\\r\\n[ERROR]   symbol:   class StringUtils\\r\\n[ERROR]   location: package org.apache.commons.lang3\\r\\n[ERROR] /D:/IDEA_Projects/TestJavaCode/target/clover/src-test-instrumented/org/apache/commons/lang3/text/StrSubstitutor_replace_1329_Test.java:[5,37] cannot find symbol\\r\\n[ERROR]   symbol:   class StrBuilder\\r\\n[ERROR]   location: package org.apache.commons.lang3.text\\r\\n[ERROR] /D:/IDEA_Projects/TestJavaCode/target/clover/src-test-instrumented/org/apache/commons/lang3/text/StrSubstitutor_getVariableResolver_1348_Test.java:[5,37] cannot find symbol\\r\\n[ERROR]   symbol:   class StrLookup\\r\\n[ERROR]   location: package org.apache.commons.lang3.text\\r\\n[ERROR] /D:/IDEA_Projects/TestJavaCode/target/clover/src-test-instrumented/org/apache/commons/lang3/text/StrSubstitutor_getVariableResolver_1348_Test.java:[6,37] cannot find symbol\\r\\n[ERROR]   symbol:   class StrSubstitutor\\r\\n[ERROR]   location: package org.apache.commons.lang3.text\\r\\n[ERROR] /D:/IDEA_Projects/TestJavaCode/target/clover/src-test-instrumented/org/apache/commons/lang3/text/StrTokenizer_setTrimmerMatcher_1386_Test.java:[4,37] cannot find symbol\\r\\n[ERROR]   symbol:   class StrMatcher\\r\\n[ERROR]   location: package org.apache.commons.lang3.text\\r\\n[ERROR] /D:/IDEA_Projects/TestJavaCode/target/clover/src-test-instrumented/org/apache/commons/lang3/text/StrTokenizer_setTrimmerMatcher_1386_Test.java:[5,37] cannot find symbol\\r\\n[ERROR]   symbol:   class StrTokenizer\\r\\n[ERROR]   location: package org.apache.commons.lang3.text\\r\\n[ERROR] /D:/IDEA_Projects/TestJavaCode/target/clover/src-test-instrumented/org/apache/commons/lang3/text/StrTokenizer_getIgnoredMatcher_1382_Test.java:[4,37] cannot find symbol\\r\\n[ERROR]   symbol:   class StrMatcher\\r\\n[ERROR]   location: package org.apache.commons.lang3.text\\r\\n[ERROR] /D:/IDEA_Projects/TestJavaCode/target/clover/src-test-instrumented/org/apache/commons/lang3/text/StrTokenizer_setIgnoredMatcher_1383_Test.java:[4,37] cannot find symbol\\r\\n[ERROR]   symbol:   class StrMatcher\\r\\n[ERROR]   location: package org.apache.commons.lang3.text\\r\\n[ERROR] /D:/IDEA_Projects/TestJavaCode/target/clover/src-test-instrumented/org/apache/commons/lang3/text/StrTokenizer_setIgnoredMatcher_1383_Test.java:[5,37] cannot find symbol\\r\\n[ERROR]   symbol:   class StrTokenizer\\r\\n[ERROR]   location: package org.apache.commons.lang3.text\\r\\n[ERROR] /D:/IDEA_Projects/TestJavaCode/target/clover/src-test-instrumented/org/apache/commons/lang3/event/EventListenerSupport_create_611_Test.java:[6,38] cannot find symbol\\r\\n[ERROR]   symbol:   class EventListenerSupport\\r\\n[ERROR]   location: package org.apache.commons.lang3.event\\r\\n[ERROR] /D:/IDEA_Projects/TestJavaCode/target/clover/src-test-instrumented/org/apache/commons/lang3/LocaleUtils_countriesByLanguage_827_Test.java:[5,32] cannot find symbol\\r\\n[ERROR]   symbol:   class LocaleUtils\\r\\n[ERROR]   location: package org.apache.commons.lang3\\r\\n[ERROR] /D:/IDEA_Projects/TestJavaCode/target/clover/src-test-instrumented/org/apache/commons/lang3/text/StrSubstitutor_setVariableResolver_1349_Test.java:[4,37] cannot find symbol\\r\\n[ERROR]   symbol:   class StrLookup\\r\\n[ERROR]   location: package org.apache.commons.lang3.text\\r\\n[ERROR] /D:/IDEA_Projects/TestJavaCode/target/clover/src-test-instrumented/org/apache/commons/lang3/text/StrSubstitutor_setVariableResolver_1349_Test.java:[5,37] cannot find symbol\\r\\n[ERROR]   symbol:   class StrSubstitutor\\r\\n[ERROR]   location: package org.apache.commons.lang3.text\\r\\n[ERROR] /D:/IDEA_Projects/TestJavaCode/target/clover/src-test-instrumented/org/apache/commons/lang3/text/StrTokenizer_setQuoteMatcher_1380_Test.java:[4,37] cannot find symbol\\r\\n[ERROR]   symbol:   class StrMatcher\\r\\n[ERROR]   location: package org.apache.commons.lang3.text\\r\\n[ERROR] /D:/IDEA_Projects/TestJavaCode/target/clover/src-test-instrumented/org/apache/commons/lang3/text/StrTokenizer_setQuoteMatcher_1380_Test.java:[5,37] cannot find symbol\\r\\n[ERROR]   symbol:   class StrTokenizer\\r\\n[ERROR]   location: package org.apache.commons.lang3.text\\r\\n[ERROR] /D:/IDEA_Projects/TestJavaCode/target/clover/src-test-instrumented/org/apache/commons/lang3/text/StrSubstitutor_setVariableSuffix_1347_Test.java:[8,37] cannot find symbol\\r\\n[ERROR]   symbol:   class StrSubstitutor\\r\\n[ERROR]   location: package org.apache.commons.lang3.text\\r\\n[ERROR] /D:/IDEA_Projects/TestJavaCode/target/clover/src-test-instrumented/org/apache/commons/lang3/text/StrSubstitutor_setVariableSuffix_1347_Test.java:[9,37] cannot find symbol\\r\\n[ERROR]   symbol:   class StrMatcher\\r\\n[ERROR]   location: package org.apache.commons.lang3.text\\r\\n[ERROR] /D:/IDEA_Projects/TestJavaCode/target/clover/src-test-instrumented/org/apache/commons/lang3/exception/ContextedRuntimeException_getContextEntries_435_Test.java:[5,42] cannot find symbol\\r\\n[ERROR]   symbol:   class ContextedRuntimeException\\r\\n[ERROR]   location: package org.apache.commons.lang3.exception\\r\\n[ERROR] /D:/IDEA_Projects/TestJavaCode/target/clover/src-test-instrumented/org/apache/commons/lang3/exception/ContextedRuntimeException_getContextEntries_435_Test.java:[6,38] cannot find symbol\\r\\n[ERROR]   symbol:   class Pair\\r\\n[ERROR]   location: package org.apache.commons.lang3.tuple\\r\\n[ERROR] /D:/IDEA_Projects/TestJavaCode/target/clover/src-test-instrumented/org/apache/commons/lang3/text/StrSubstitutor_setEscapeChar_1339_Test.java:[8,37] cannot find symbol\\r\\n[ERROR]   symbol:   class StrSubstitutor\\r\\n[ERROR]   location: package org.apache.commons.lang3.text\\r\\n[ERROR] /D:/IDEA_Projects/TestJavaCode/target/clover/src-test-instrumented/org/apache/commons/lang3/reflect/FieldUtils_getAllFieldsList_709_Test.java:[8,40] cannot find symbol\\r\\n[ERROR]   symbol:   class FieldUtils\\r\\n[ERROR]   location: package org.apache.commons.lang3.reflect\\r\\n[ERROR] /D:/IDEA_Projects/TestJavaCode/target/clover/src-test-instrumented/org/apache/commons/lang3/text/StrSubstitutor_replaceIn_1337_Test.java:[5,37] cannot find symbol\\r\\n[ERROR]   symbol:   class StrBuilder\\r\\n[ERROR]   location: package org.apache.commons.lang3.text\\r\\n[ERROR] /D:/IDEA_Projects/TestJavaCode/target/clover/src-test-instrumented/org/apache/commons/lang3/text/StrSubstitutor_replaceIn_1337_Test.java:[6,37] cannot find symbol\\r\\n[ERROR]   symbol:   class StrSubstitutor\\r\\n[ERROR]   location: package org.apache.commons.lang3.text\\r\\n[ERROR] /D:/IDEA_Projects/TestJavaCode/target/clover/src-test-instrumented/org/apache/commons/lang3/exception/ExceptionUtils_indexOfType_627_Test.java:[6,42] cannot find symbol\\r\\n[ERROR]   symbol:   class ExceptionUtils\\r\\n[ERROR]   location: package org.apache.commons.lang3.exception\\r\\n[ERROR] /D:/IDEA_Projects/TestJavaCode/target/clover/src-test-instrumented/org/apache/commons/lang3/reflect/FieldUtils_getField_704_Test.java:[7,40] cannot find symbol\\r\\n[ERROR]   symbol:   class FieldUtils\\r\\n[ERROR]   location: package org.apache.commons.lang3.reflect\\r\\n[ERROR] /D:/IDEA_Projects/TestJavaCode/target/clover/src-test-instrumented/org/apache/commons/lang3/exception/ContextedException_getContextEntries_426_Test.java:[6,42] cannot find symbol\\r\\n[ERROR]   symbol:   class ContextedException\\r\\n[ERROR]   location: package org.apache.commons.lang3.exception\\r\\n[ERROR] /D:/IDEA_Projects/TestJavaCode/target/clover/src-test-instrumented/org/apache/commons/lang3/exception/ContextedException_getContextEntries_426_Test.java:[7,38] cannot find symbol\\r\\n[ERROR]   symbol:   class Pair\\r\\n[ERROR]   location: package org.apache.commons.lang3.tuple\\r\\n[ERROR] /D:/IDEA_Projects/TestJavaCode/target/clover/src-test-instrumented/org/apache/commons/lang3/text/translate/LookupTranslator_translate_828_Test.java:[5,47] cannot find symbol\\r\\n[ERROR]   symbol:   class LookupTranslator\\r\\n[ERROR]   location: package org.apache.commons.lang3.text.translate\\r\\n[ERROR] /D:/IDEA_Projects/TestJavaCode/target/clover/src-test-instrumented/org/apache/commons/lang3/EnumUtils_processBitVectors_584_Test.java:[5,32] cannot find symbol\\r\\n[ERROR]   symbol:   class EnumUtils\\r\\n[ERROR]   location: package org.apache.commons.lang3\\r\\n[ERROR] /D:/IDEA_Projects/TestJavaCode/target/clover/src-test-instrumented/org/apache/commons/lang3/reflect/FieldUtils_getAllFields_708_Test.java:[7,40] cannot find symbol\\r\\n[ERROR]   symbol:   class FieldUtils\\r\\n[ERROR]   location: package org.apache.commons.lang3.reflect\\r\\n[ERROR] /D:/IDEA_Projects/TestJavaCode/target/clover/src-test-instrumented/org/apache/commons/lang3/text/StrTokenizer_size_1358_Test.java:[6,37] cannot find symbol\\r\\n[ERROR]   symbol:   class StrMatcher\\r\\n[ERROR]   location: package org.apache.commons.lang3.text\\r\\n[ERROR] /D:/IDEA_Projects/TestJavaCode/target/clover/src-test-instrumented/org/apache/commons/lang3/text/StrTokenizer_size_1358_Test.java:[7,37] cannot find symbol\\r\\n[ERROR]   symbol:   class StrTokenizer\\r\\n[ERROR]   location: package org.apache.commons.lang3.text\\r\\n[ERROR] /D:/IDEA_Projects/TestJavaCode/target/clover/src-test-instrumented/org/apache/commons/lang3/exception/ExceptionUtils_printRootCauseStackTrace_631_Test.java:[5,42] cannot find symbol\\r\\n[ERROR]   symbol:   class ExceptionUtils\\r\\n[ERROR]   location: package org.apache.commons.lang3.exception\\r\\n[ERROR] /D:/IDEA_Projects/TestJavaCode/target/clover/src-test-instrumented/org/apache/commons/lang3/text/StrSubstitutor_replaceIn_1336_Test.java:[6,37] cannot find symbol\\r\\n[ERROR]   symbol:   class StrBuilder\\r\\n[ERROR]   location: package org.apache.commons.lang3.text\\r\\n[ERROR] /D:/IDEA_Projects/TestJavaCode/target/clover/src-test-instrumented/org/apache/commons/lang3/text/StrSubstitutor_replaceIn_1336_Test.java:[7,37] cannot find symbol\\r\\n[ERROR]   symbol:   class StrSubstitutor\\r\\n[ERROR]   location: package org.apache.commons.lang3.text\\r\\n[ERROR] /D:/IDEA_Projects/TestJavaCode/target/clover/src-test-instrumented/org/apache/commons/lang3/concurrent/ConcurrentUtils_initialize_404_Test.java:[4,43] cannot find symbol\\r\\n[ERROR]   symbol:   class ConcurrentException\\r\\n[ERROR]   location: package org.apache.commons.lang3.concurrent\\r\\n[ERROR] /D:/IDEA_Projects/TestJavaCode/target/clover/src-test-instrumented/org/apache/commons/lang3/concurrent/ConcurrentUtils_initialize_404_Test.java:[5,43] cannot find symbol\\r\\n[ERROR]   symbol:   class ConcurrentInitializer\\r\\n[ERROR]   location: package org.apache.commons.lang3.concurrent\\r\\n[ERROR] /D:/IDEA_Projects/TestJavaCode/target/clover/src-test-instrumented/org/apache/commons/lang3/text/ExtendedMessageFormat_applyPattern_639_Test.java:[57,55] cannot find symbol\\r\\n[ERROR]   symbol:   class FormatFactory\\r\\n[ERROR]   location: class org.apache.commons.lang3.text.ExtendedMessageFormat_applyPattern_639_Test\\r\\n[ERROR] /D:/IDEA_Projects/TestJavaCode/target/clover/src-test-instrumented/org/apache/commons/lang3/LocaleUtils_languagesByCountry_826_Test.java:[5,32] cannot find symbol\\r\\n[ERROR]   symbol:   class LocaleUtils\\r\\n[ERROR]   location: package org.apache.commons.lang3\\r\\n[ERROR] /D:/IDEA_Projects/TestJavaCode/target/clover/src-test-instrumented/org/apache/commons/lang3/exception/ContextedRuntimeException_getFirstContextValue_434_Test.java:[8,38] cannot find symbol\\r\\n[ERROR]   symbol:   class Pair\\r\\n[ERROR]   location: package org.apache.commons.lang3.tuple\\r\\n[ERROR] /D:/IDEA_Projects/TestJavaCode/target/clover/src-test-instrumented/org/apache/commons/lang3/exception/DefaultExceptionContext_getContextEntries_554_Test.java:[6,38] cannot find symbol\\r\\n[ERROR]   symbol:   class Pair\\r\\n[ERROR]   location: package org.apache.commons.lang3.tuple\\r\\n[ERROR] /D:/IDEA_Projects/TestJavaCode/target/clover/src-test-instrumented/org/apache/commons/lang3/time/FastDateFormat_getDateInstance_651_Test.java:[8,37] cannot find symbol\\r\\n[ERROR]   symbol:   class FastDateFormat\\r\\n[ERROR]   location: package org.apache.commons.lang3.time\\r\\n[ERROR] /D:/IDEA_Projects/TestJavaCode/target/clover/src-test-instrumented/org/apache/commons/lang3/builder/ToStringBuilder_setDefaultStyle_1601_Test.java:[4,40] cannot find symbol\\r\\n[ERROR]   symbol:   class ToStringBuilder\\r\\n[ERROR]   location: package org.apache.commons.lang3.builder\\r\\n[ERROR] /D:/IDEA_Projects/TestJavaCode/target/clover/src-test-instrumented/org/apache/commons/lang3/builder/ToStringBuilder_setDefaultStyle_1601_Test.java:[5,40] cannot find symbol\\r\\n[ERROR]   symbol:   class ToStringStyle\\r\\n[ERROR]   location: package org.apache.commons.lang3.builder\\r\\n[ERROR] /D:/IDEA_Projects/TestJavaCode/target/clover/src-test-instrumented/org/apache/commons/lang3/ArrayUtils_reverse_63_Test.java:[13,50] cannot find symbol\\r\\n[ERROR]   symbol:   variable ArrayUtils\\r\\n[ERROR]   location: class org.apache.commons.lang3.ArrayUtils_reverse_63_Test\\r\\n[ERROR] /D:/IDEA_Projects/TestJavaCode/target/clover/src-test-instrumented/org/apache/commons/lang3/ArrayUtils_reverse_63_Test.java:[19,50] cannot find symbol\\r\\n[ERROR]   symbol:   variable ArrayUtils\\r\\n[ERROR]   location: class org.apache.commons.lang3.ArrayUtils_reverse_63_Test\\r\\n[ERROR] /D:/IDEA_Projects/TestJavaCode/target/clover/src-test-instrumented/org/apache/commons/lang3/ArrayUtils_reverse_63_Test.java:[25,50] cannot find symbol\\r\\n[ERROR]   symbol:   variable ArrayUtils\\r\\n[ERROR]   location: class org.apache.commons.lang3.ArrayUtils_reverse_63_Test\\r\\n[ERROR] /D:/IDEA_Projects/TestJavaCode/target/clover/src-test-instrumented/org/apache/commons/lang3/text/StrBuilder_getNewLineText_1180_Test.java:[12,50] cannot find symbol\\r\\n[ERROR]   symbol:   class StrBuilder\\r\\n[ERROR]   location: class org.apache.commons.lang3.text.StrBuilder_getNewLineText_1180_Test\\r\\n[ERROR] /D:/IDEA_Projects/TestJavaCode/target/clover/src-test-instrumented/org/apache/commons/lang3/text/StrBuilder_getNewLineText_1180_Test.java:[12,79] cannot find symbol\\r\\n[ERROR]   symbol:   class StrBuilder\\r\\n[ERROR]   location: class org.apache.commons.lang3.text.StrBuilder_getNewLineText_1180_Test\\r\\n[ERROR] /D:/IDEA_Projects/TestJavaCode/target/clover/src-test-instrumented/org/apache/commons/lang3/text/StrBuilder_getNewLineText_1180_Test.java:[16,50] cannot find symbol\\r\\n[ERROR]   symbol:   class StrBuilder\\r\\n[ERROR]   location: class org.apache.commons.lang3.text.StrBuilder_getNewLineText_1180_Test\\r\\n[ERROR] /D:/IDEA_Projects/TestJavaCode/target/clover/src-test-instrumented/org/apache/commons/lang3/text/StrBuilder_getNewLineText_1180_Test.java:[16,79] cannot find symbol\\r\\n[ERROR]   symbol:   class StrBuilder\\r\\n[ERROR]   location: class org.apache.commons.lang3.text.StrBuilder_getNewLineText_1180_Test\\r\\n[ERROR] /D:/IDEA_Projects/TestJavaCode/target/clover/src-test-instrumented/org/apache/commons/lang3/time/DateUtils_addMinutes_512_Test.java:[19,65] cannot find symbol\\r\\n[ERROR]   symbol:   variable DateUtils\\r\\n[ERROR]   location: class org.apache.commons.lang3.time.DateUtils_addMinutes_512_Test\\r\\n[ERROR] /D:/IDEA_Projects/TestJavaCode/target/clover/src-test-instrumented/org/apache/commons/lang3/time/DateUtils_addMinutes_512_Test.java:[25,65] cannot find symbol\\r\\n[ERROR]   symbol:   variable DateUtils\\r\\n[ERROR]   location: class org.apache.commons.lang3.time.DateUtils_addMinutes_512_Test\\r\\n[ERROR] /D:/IDEA_Projects/TestJavaCode/target/clover/src-test-instrumented/org/apache/commons/lang3/time/DateUtils_addMinutes_512_Test.java:[31,65] cannot find symbol\\r\\n[ERROR]   symbol:   variable DateUtils\\r\\n[ERROR]   location: class org.apache.commons.lang3.time.DateUtils_addMinutes_512_Test\\r\\n[ERROR] /D:/IDEA_Projects/TestJavaCode/target/clover/src-test-instrumented/org/apache/commons/lang3/ArrayUtils_lastIndexOf_89_Test.java:[14,66] cannot find symbol\\r\\n[ERROR]   symbol:   variable ArrayUtils\\r\\n[ERROR]   location: class org.apache.commons.lang3.ArrayUtils_lastIndexOf_89_Test\\r\\n[ERROR] /D:/IDEA_Projects/TestJavaCode/target/clover/src-test-instrumented/org/apache/commons/lang3/text/StrTokenizer_setDelimiterMatcher_1376_Test.java:[14,50] cannot find symbol\\r\\n[ERROR]   symbol:   class StrTokenizer\\r\\n[ERROR]   location: class org.apache.commons.lang3.text.StrTokenizer_setDelimiterMatcher_1376_Test\\r\\n[ERROR] /D:/IDEA_Projects/TestJavaCode/target/clover/src-test-instrumented/org/apache/commons/lang3/text/StrTokenizer_setDelimiterMatcher_1376_Test.java:[14,79] cannot find symbol\\r\\n[ERROR]   symbol:   class StrTokenizer\\r\\n[ERROR]   location: class org.apache.commons.lang3.text.StrTokenizer_setDelimiterMatcher_1376_Test\\r\\n[ERROR] /D:/IDEA_Projects/TestJavaCode/target/clover/src-test-instrumented/org/apache/commons/lang3/text/StrTokenizer_setDelimiterMatcher_1376_Test.java:[17,80] cannot find symbol\\r\\n[ERROR]   symbol:   variable StrMatcher\\r\\n[ERROR]   location: class org.apache.commons.lang3.text.StrTokenizer_setDelimiterMatcher_1376_Test\\r\\n[ERROR] /D:/IDEA_Projects/TestJavaCode/target/clover/src-test-instrumented/org/apache/commons/lang3/SystemUtils_getJavaIoTmpDir_1584_Test.java:[12,64] cannot find symbol\\r\\n[ERROR]   symbol:   variable SystemUtils\\r\\n[ERROR]   location: class org.apache.commons.lang3.SystemUtils_getJavaIoTmpDir_1584_Test\\r\\n[ERROR] /D:/IDEA_Projects/TestJavaCode/target/clover/src-test-instrumented/org/apache/commons/lang3/BooleanUtils_toStringYesNo_273_Test.java:[17,70] cannot find symbol\\r\\n[ERROR]   symbol:   variable BooleanUtils\\r\\n[ERROR]   location: class org.apache.commons.lang3.BooleanUtils_toStringYesNo_273_Test\\r\\n[ERROR] /D:/IDEA_Projects/TestJavaCode/target/clover/src-test-instrumented/org/apache/commons/lang3/BooleanUtils_toStringYesNo_273_Test.java:[20,69] cannot find symbol\\r\\n[ERROR]   symbol:   variable BooleanUtils\\r\\n[ERROR]   location: class org.apache.commons.lang3.BooleanUtils_toStringYesNo_273_Test\\r\\n[ERROR] /D:/IDEA_Projects/TestJavaCode/target/clover/src-test-instrumented/org/apache/commons/lang3/BooleanUtils_toStringYesNo_273_Test.java:[23,61] cannot find symbol\\r\\n[ERROR]   symbol:   variable BooleanUtils\\r\\n[ERROR]   location: class org.apache.commons.lang3.BooleanUtils_toStringYesNo_273_Test\\r\\n[ERROR] /D:/IDEA_Projects/TestJavaCode/target/clover/src-test-instrumented/org/apache/commons/lang3/reflect/ConstructorUtils_invokeConstructor_416_Test.java:[13,67] cannot find symbol\\r\\n[ERROR]   symbol:   variable ConstructorUtils\\r\\n[ERROR]   location: class org.apache.commons.lang3.reflect.ConstructorUtils_invokeConstructor_416_Test\\r\\n[ERROR] /D:/IDEA_Projects/TestJavaCode/target/clover/src-test-instrumented/org/apache/commons/lang3/reflect/ConstructorUtils_invokeConstructor_416_Test.java:[17,67] cannot find symbol\\r\\n[ERROR]   symbol:   variable ConstructorUtils\\r\\n[ERROR]   location: class org.apache.commons.lang3.reflect.ConstructorUtils_invokeConstructor_416_Test\\r\\n[ERROR] /D:/IDEA_Projects/TestJavaCode/target/clover/src-test-instrumented/org/apache/commons/lang3/reflect/ConstructorUtils_invokeConstructor_416_Test.java:[21,67] cannot find symbol\\r\\n[ERROR]   symbol:   variable ConstructorUtils\\r\\n[ERROR]   location: class org.apache.commons.lang3.reflect.ConstructorUtils_invokeConstructor_416_Test\\r\\n[ERROR] /D:/IDEA_Projects/TestJavaCode/target/clover/src-test-instrumented/org/apache/commons/lang3/reflect/ConstructorUtils_invokeConstructor_416_Test.java:[26,54] cannot find symbol\\r\\n[ERROR]   symbol:   variable ConstructorUtils\\r\\n[ERROR]   location: class org.apache.commons.lang3.reflect.ConstructorUtils_invokeConstructor_416_Test\\r\\n[ERROR] /D:/IDEA_Projects/TestJavaCode/target/clover/src-test-instrumented/org/apache/commons/lang3/ClassUtils_isInnerClass_354_Test.java:[12,62] cannot find symbol\\r\\n[ERROR]   symbol:   variable ClassUtils\\r\\n[ERROR]   location: class org.apache.commons.lang3.ClassUtils_isInnerClass_354_Test\\r\\n[ERROR] /D:/IDEA_Projects/TestJavaCode/target/clover/src-test-instrumented/org/apache/commons/lang3/ClassUtils_isInnerClass_354_Test.java:[15,62] cannot find symbol\\r\\n[ERROR]   symbol:   variable ClassUtils\\r\\n[ERROR]   location: class org.apache.commons.lang3.ClassUtils_isInnerClass_354_Test\\r\\n[ERROR] /D:/IDEA_Projects/TestJavaCode/target/clover/src-test-instrumented/org/apache/commons/lang3/ClassUtils_isInnerClass_354_Test.java:[18,62] cannot find symbol\\r\\n[ERROR]   symbol:   variable ClassUtils\\r\\n[ERROR]   location: class org.apache.commons.lang3.ClassUtils_isInnerClass_354_Test\\r\\n[ERROR] /D:/IDEA_Projects/TestJavaCode/target/clover/src-test-instrumented/org/apache/commons/lang3/mutable/MutableInt_equals_925_Test.java:[11,50] cannot find symbol\\r\\n[ERROR]   symbol:   class MutableInt\\r\\n[ERROR]   location: class org.apache.commons.lang3.mutable.MutableInt_equals_925_Test\\r\\n[ERROR] /D:/IDEA_Projects/TestJavaCode/target/clover/src-test-instrumented/org/apache/commons/lang3/mutable/MutableInt_equals_925_Test.java:[11,78] cannot find symbol\\r\\n[ERROR]   symbol:   class MutableInt\\r\\n[ERROR]   location: class org.apache.commons.lang3.mutable.MutableInt_equals_925_Test\\r\\n[ERROR] /D:/IDEA_Projects/TestJavaCode/target/clover/src-test-instrumented/org/apache/commons/lang3/mutable/MutableInt_equals_925_Test.java:[17,50] cannot find symbol\\r\\n[ERROR]   symbol:   class MutableInt\\r\\n[ERROR]   location: class org.apache.commons.lang3.mutable.MutableInt_equals_925_Test\\r\\n[ERROR] /D:/IDEA_Projects/TestJavaCode/target/clover/src-test-instrumented/org/apache/commons/lang3/mutable/MutableInt_equals_925_Test.java:[17,78] cannot find symbol\\r\\n[ERROR]   symbol:   class MutableInt\\r\\n[ERROR]   location: class org.apache.commons.lang3.mutable.MutableInt_equals_925_Test\\r\\n[ERROR] /D:/IDEA_Projects/TestJavaCode/target/clover/src-test-instrumented/org/apache/commons/lang3/mutable/MutableInt_equals_925_Test.java:[23,50] cannot find symbol\\r\\n[ERROR]   symbol:   class MutableInt\\r\\n[ERROR]   location: class org.apache.commons.lang3.mutable.MutableInt_equals_925_Test\\r\\n[ERROR] /D:/IDEA_Projects/TestJavaCode/target/clover/src-test-instrumented/org/apache/commons/lang3/mutable/MutableInt_equals_925_Test.java:[23,78] cannot find symbol\\r\\n[ERROR]   symbol:   class MutableInt\\r\\n[ERROR]   location: class org.apache.commons.lang3.mutable.MutableInt_equals_925_Test\\r\\n[ERROR] -> [Help 1]\\r\\n[ERROR] \\r\\n[ERROR] To see the full stack trace of the errors, re-run Maven with the -e switch.\\r\\n[ERROR] Re-run Maven using the -X switch to enable full debug logging.\\r\\n[ERROR] \\r\\n[ERROR] For more information about the errors and possible solutions, please read the following articles:\\r\\n[ERROR] [Help 1] http://cwiki.apache.org/confluence/display/MAVEN/MojoFailureException\\r\\n\"\n"
     ]
    }
   ],
   "source": [
    "import os\n",
    "import subprocess\n",
    "import psutil\n",
    "import time\n",
    "\n",
    "def _run_command(command: str):\n",
    "    def kill_proc_tree(pid, including_parent=True):\n",
    "        try:\n",
    "            parent = psutil.Process(pid)\n",
    "        except psutil.NoSuchProcess:\n",
    "            return # 该进程已经不存在了\n",
    "        children = parent.children(recursive=True)\n",
    "        for child in children:\n",
    "            child.kill()\n",
    "        _, still_alive = psutil.wait_procs(children, timeout=5)\n",
    "        if including_parent:\n",
    "            parent.kill()\n",
    "            parent.wait(5)\n",
    "\n",
    "    os.environ[\"JAVA_TOOL_OPTIONS\"] = \"-Duser.language=en\"\n",
    "    process = subprocess.Popen(command,\n",
    "                               cwd=PROJECT_PATH,\n",
    "                               shell=True,\n",
    "                               stdout=subprocess.PIPE,\n",
    "                               stderr=subprocess.PIPE)\n",
    "\n",
    "    try:\n",
    "        stdout, stderr = process.communicate(timeout=180)\n",
    "    except subprocess.TimeoutExpired as e:\n",
    "        kill_proc_tree(process.pid)\n",
    "        process.kill()  # 确保杀死主进程\n",
    "        process.wait()  # 等待进程退出\n",
    "        raise e\n",
    "\n",
    "    print(stdout)\n",
    "_run_command(\"mvn clover:setup test clover:aggregate clover:clover -Djava.awt.headless=true\")\n"
   ],
   "metadata": {
    "collapsed": false,
    "ExecuteTime": {
     "end_time": "2024-03-16T09:02:10.692680300Z",
     "start_time": "2024-03-16T09:01:58.410296700Z"
    }
   }
  },
  {
   "cell_type": "code",
   "execution_count": 13,
   "outputs": [
    {
     "data": {
      "text/plain": "'C:\\\\Users\\\\tianfy\\\\Desktop\\\\毕设\\\\数据集\\\\4.0/jfreechart154.xml'"
     },
     "execution_count": 13,
     "metadata": {},
     "output_type": "execute_result"
    }
   ],
   "source": [
    "CLOVER_XML = fr\"{PROJECT_PATH}/target/site/clover/clover.xml\"\n",
    "TARGET_CLVOER_XML = f\"{os.path.dirname(OUTPUT_DIR)}/{DATASET}.xml\"\n",
    "shutil.copy(CLOVER_XML, TARGET_CLVOER_XML)\n"
   ],
   "metadata": {
    "collapsed": false,
    "ExecuteTime": {
     "end_time": "2024-03-17T02:55:46.249378100Z",
     "start_time": "2024-03-17T02:55:46.240211Z"
    }
   }
  },
  {
   "cell_type": "code",
   "execution_count": 14,
   "outputs": [],
   "source": [
    "# read dataset\n",
    "with open(f\"{CONFIG.dataset_folder}/{DATASET}.pkl\", \"rb\") as f:\n",
    "    raw_dataset = pickle.load(f)\n",
    "    dataset = Dataset(**raw_dataset)"
   ],
   "metadata": {
    "collapsed": false,
    "ExecuteTime": {
     "end_time": "2024-03-17T02:55:52.860840100Z",
     "start_time": "2024-03-17T02:55:52.736450300Z"
    }
   }
  },
  {
   "cell_type": "code",
   "execution_count": 15,
   "outputs": [
    {
     "name": "stderr",
     "output_type": "stream",
     "text": [
      "499it [00:00, 1073.61it/s]"
     ]
    },
    {
     "name": "stdout",
     "output_type": "stream",
     "text": [
      "5772\n",
      "Total Branch Coverage:  (8378, 16525) 0.5069894099848714\n",
      "Total Line Coverage: (14114, 28673) 0.4922400864925191\n"
     ]
    },
    {
     "name": "stderr",
     "output_type": "stream",
     "text": [
      "\n"
     ]
    }
   ],
   "source": [
    "from app.classes import IterationStatus\n",
    "\n",
    "total_branch_tupe = (0, 0)\n",
    "total_line_tupe = (0, 0)\n",
    "count = 0\n",
    "\n",
    "tree = ET.parse(CLOVER_XML)\n",
    "root = tree.getroot()\n",
    "root_dict = etree_to_dict(root)['coverage']\n",
    "method_coverage = {} # {method_signature: (branch_rate, line_rate)}\n",
    "for class_info in tqdm(dataset):\n",
    "    for method_info in class_info:\n",
    "        # if not f\"{class_info.class_name}#{method_info.name}\" in shorten_java_valid_map:\n",
    "        #     continue\n",
    "\n",
    "        count += 1\n",
    "        source_packages: list = root_dict['project'][0]['package']\n",
    "        # 找到focal class & focal method\n",
    "        source_package = None\n",
    "        for package in source_packages:\n",
    "            if class_info.package_reference == package['@name']:\n",
    "                source_package = package\n",
    "                break\n",
    "        assert source_package is not None\n",
    "\n",
    "        source_files = source_package['file']\n",
    "        source_file = None\n",
    "        for file in source_files:\n",
    "            if f\"{class_info.class_name}.java\" == file['@name']:\n",
    "                source_file = file\n",
    "                break\n",
    "        assert source_file is not None\n",
    "\n",
    "        source_report = source_file\n",
    "\n",
    "        report_lines = source_report['line']\n",
    "        branches = [line for line in report_lines if line['@type'] == 'cond']\n",
    "        lines = [line for line in report_lines if line['@type'] == 'stmt']\n",
    "\n",
    "        # 当测试某一个方法时，筛选出这个方法的line/branch\n",
    "        branches = [branch for branch in branches if\n",
    "                    method_info.start <= int(branch[\"@num\"]) <= method_info.end]\n",
    "        lines = [line for line in lines if\n",
    "                 method_info.start <= int(line[\"@num\"]) <= method_info.end]\n",
    "\n",
    "        uncovered_branch = []\n",
    "        false_uncovered_branch = []\n",
    "        true_uncovered_branch = []\n",
    "        unreachable_branch = []\n",
    "\n",
    "        for branch in branches:\n",
    "            if branch['@truecount'] == '0' or branch['@falsecount'] == '0':\n",
    "                uncovered_branch.append(branch)\n",
    "            if branch['@truecount'] != '0' and branch['@falsecount'] == '0':\n",
    "                false_uncovered_branch.append(branch)\n",
    "            if branch['@truecount'] == '0' and branch['@falsecount'] != '0':\n",
    "                true_uncovered_branch.append(branch)\n",
    "            if branch['@truecount'] == '0' and branch['@falsecount'] == '0':\n",
    "                unreachable_branch.append(branch)\n",
    "\n",
    "\n",
    "\n",
    "        branch_num_uncovered = len(false_uncovered_branch) + len(true_uncovered_branch) + 2 * len(unreachable_branch)\n",
    "        branch_num_total = 1 if len(branches) == 0 else len(branches) * 2\n",
    "        branch_num_covered = branch_num_total - branch_num_uncovered\n",
    "\n",
    "\n",
    "\n",
    "        uncovered_line = []\n",
    "        for line in lines:\n",
    "            if line['@count'] == '0':\n",
    "                uncovered_line.append(line)\n",
    "\n",
    "        line_num_uncovered = len(uncovered_line)\n",
    "        line_num_total = 1 if len(lines) == 0 else len(lines)\n",
    "        line_num_covered = line_num_total - line_num_uncovered\n",
    "\n",
    "\n",
    "        # if any([method_info.name.startswith(x) for x in [\"get\", \"set\", \"is\"]]) or method_info.name[0].isupper():\n",
    "        #     branch_num_covered = branch_num_total\n",
    "        #     line_num_covered = line_num_total\n",
    "\n",
    "        if line_num_covered == 0:\n",
    "            # count -= 1\n",
    "            # continue\n",
    "            branch_num_covered = 0\n",
    "\n",
    "        branch_rate_tuple = (branch_num_covered, branch_num_total, branch_num_covered / branch_num_total)\n",
    "        line_rate_tuple = (line_num_covered, line_num_total, line_num_covered / line_num_total)\n",
    "        # print(f\"Class: {class_info.class_name}, Method: {method_info.name}\")\n",
    "        # print(f\"Branch Coverage: {branch_rate_tuple}\")\n",
    "        # print(f\"Line Coverage: {line_rate_tuple}\")\n",
    "        method_coverage[f\"{class_info.class_name}#{method_info.signature}\"] = (branch_rate_tuple, line_rate_tuple)\n",
    "        total_branch_tupe = (total_branch_tupe[0] + branch_rate_tuple[0], total_branch_tupe[1] + branch_rate_tuple[1])\n",
    "        total_line_tupe = (total_line_tupe[0] + line_rate_tuple[0], total_line_tupe[1] + line_rate_tuple[1])\n",
    "print(count)\n",
    "print(f\"Total Branch Coverage:  {total_branch_tupe} {total_branch_tupe[0] / total_branch_tupe[1]}\")\n",
    "print(f\"Total Line Coverage: {total_line_tupe} {total_line_tupe[0] / total_line_tupe[1]}\")"
   ],
   "metadata": {
    "collapsed": false,
    "ExecuteTime": {
     "end_time": "2024-03-17T02:55:54.771508900Z",
     "start_time": "2024-03-17T02:55:52.834840Z"
    }
   }
  },
  {
   "cell_type": "code",
   "execution_count": null,
   "outputs": [],
   "source": [],
   "metadata": {
    "collapsed": false
   }
  }
 ],
 "metadata": {
  "kernelspec": {
   "display_name": "Python 3",
   "language": "python",
   "name": "python3"
  },
  "language_info": {
   "codemirror_mode": {
    "name": "ipython",
    "version": 2
   },
   "file_extension": ".py",
   "mimetype": "text/x-python",
   "name": "python",
   "nbconvert_exporter": "python",
   "pygments_lexer": "ipython2",
   "version": "2.7.6"
  }
 },
 "nbformat": 4,
 "nbformat_minor": 0
}
