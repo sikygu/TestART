{
 "cells": [
  {
   "cell_type": "code",
   "execution_count": 1,
   "outputs": [
    {
     "name": "stdout",
     "output_type": "stream",
     "text": [
      "read time: 0.11403584480285645\n",
      "decompress time: 3.1375980377197266\n",
      "loads time: 3.3906359672546387\n",
      "assembling time: 3.0024800300598145\n",
      "CPU times: total: 11.6 s\n",
      "Wall time: 12.5 s\n"
     ]
    }
   ],
   "source": [
    "%%time\n",
    "from app.database import Database\n",
    "from app.classes import IterationStatus, BatchAttemptStatus, TestStatus, AttemptStatus\n",
    "from typing import List\n",
    "\n",
    "db = Database()\n",
    "# batch_li = [x for x in db.get_all() if x.dataset == 'commons-csv']\n",
    "all_dataset = db.get_all()"
   ],
   "metadata": {
    "collapsed": false,
    "ExecuteTime": {
     "end_time": "2024-04-03T12:37:03.015185100Z",
     "start_time": "2024-04-03T12:36:50.512663Z"
    }
   }
  },
  {
   "cell_type": "code",
   "execution_count": 2,
   "outputs": [
    {
     "name": "stdout",
     "output_type": "stream",
     "text": [
      "47 lang_1_fixed\n",
      "58 commons-csv\n",
      "61 commons-cli\n",
      "66 gson\n",
      "82 jfreechart\n",
      "=============\n",
      "89 lang_1_fixed\n",
      "98 gson\n",
      "99 commons-csv\n",
      "100 commons-cli\n",
      "101 jfreechart\n",
      "=============\n",
      "123 jfreechart154\n",
      "=============\n",
      "126 jfreechart154\n",
      "127 lang_1_fixed\n",
      "128 gson\n",
      "130 jfreechart154\n"
     ]
    }
   ],
   "source": [
    "for d in all_dataset:\n",
    "    print(d.doc_id, d.dataset)\n",
    "    if d.doc_id in [82, 101,123]:\n",
    "        print(\"=============\")\n"
   ],
   "metadata": {
    "collapsed": false,
    "ExecuteTime": {
     "end_time": "2024-04-03T12:37:03.019698800Z",
     "start_time": "2024-04-03T12:37:03.016186800Z"
    }
   }
  },
  {
   "cell_type": "code",
   "execution_count": 33,
   "outputs": [],
   "source": [
    "batch_li = [x for x in all_dataset if x.doc_id in [47, 58, 61, 66, 123]]\n",
    "no_feed_back_batch_li = [x for x in all_dataset if x.doc_id in [127, 58, 61, 66, 126]]\n",
    "gpt4_batch_li = [x for x in all_dataset if x.doc_id in [89,98,99,100,101]]"
   ],
   "metadata": {
    "collapsed": false,
    "ExecuteTime": {
     "end_time": "2024-04-04T09:07:59.287762Z",
     "start_time": "2024-04-04T09:07:59.249246600Z"
    }
   }
  },
  {
   "cell_type": "code",
   "execution_count": 34,
   "outputs": [
    {
     "name": "stdout",
     "output_type": "stream",
     "text": [
      "focal method:  8192\n"
     ]
    }
   ],
   "source": [
    "from app.constants import CoverageMode\n",
    "\n",
    "\n",
    "def get_attempts_from_batch(batch_li: List[BatchAttemptStatus], mode: CoverageMode = CoverageMode.BRANCH_COVERAGE):\n",
    "    attempts = []\n",
    "    for bas in batch_li:\n",
    "        attempts += bas.attempts\n",
    "    print(\"focal method: \", len(attempts))\n",
    "    for a in attempts:\n",
    "        a.mode = mode\n",
    "        if a.iteration_status:\n",
    "            if a.iteration_status.test_status:\n",
    "                a.iteration_status.test_status.mode = mode\n",
    "            if a.iteration_status.sub_test_status:\n",
    "                for ts in a.iteration_status.sub_test_status:\n",
    "                    ts.mode = mode\n",
    "        if a.sub_iteration_status:\n",
    "            for it in a.sub_iteration_status:\n",
    "                if it.test_status:\n",
    "                    it.test_status.mode = mode\n",
    "                if it.sub_test_status:\n",
    "                    for ts in it.sub_test_status:\n",
    "                        ts.mode = mode\n",
    "    return attempts\n",
    "\n",
    "\n",
    "attempts: List[AttemptStatus] = get_attempts_from_batch(batch_li, CoverageMode.BRANCH_COVERAGE)"
   ],
   "metadata": {
    "collapsed": false,
    "ExecuteTime": {
     "end_time": "2024-04-04T09:07:59.409761500Z",
     "start_time": "2024-04-04T09:07:59.283810500Z"
    }
   }
  },
  {
   "cell_type": "code",
   "execution_count": 78,
   "outputs": [
    {
     "name": "stdout",
     "output_type": "stream",
     "text": [
      "focal method:  1728\n",
      "focal method:  137\n",
      "focal method:  177\n",
      "focal method:  378\n",
      "focal method:  5772\n",
      "CPU times: total: 31.2 ms\n",
      "Wall time: 31.4 ms\n",
      "focal method:  1728\n",
      "focal method:  137\n",
      "focal method:  177\n",
      "focal method:  378\n",
      "focal method:  5772\n",
      "CPU times: total: 62.5 ms\n",
      "Wall time: 40.6 ms\n",
      "focal method:  1728\n",
      "focal method:  137\n",
      "focal method:  177\n",
      "focal method:  378\n",
      "focal method:  5772\n",
      "CPU times: total: 31.2 ms\n",
      "Wall time: 38 ms\n",
      "focal method:  1728\n",
      "focal method:  137\n",
      "focal method:  177\n",
      "focal method:  378\n",
      "focal method:  5772\n",
      "CPU times: total: 31.2 ms\n",
      "Wall time: 31 ms\n",
      "focal method:  1728\n",
      "focal method:  137\n",
      "focal method:  177\n",
      "focal method:  378\n",
      "focal method:  5772\n",
      "CPU times: total: 31.2 ms\n",
      "Wall time: 30 ms\n",
      "focal method:  1728\n",
      "focal method:  137\n",
      "focal method:  177\n",
      "focal method:  378\n",
      "focal method:  5772\n",
      "CPU times: total: 46.9 ms\n",
      "Wall time: 28 ms\n",
      "focal method:  1728\n",
      "focal method:  137\n",
      "focal method:  177\n",
      "focal method:  378\n",
      "focal method:  5772\n",
      "CPU times: total: 31.2 ms\n",
      "Wall time: 34 ms\n",
      "focal method:  1728\n",
      "focal method:  137\n",
      "focal method:  177\n",
      "focal method:  378\n",
      "focal method:  5772\n",
      "CPU times: total: 31.2 ms\n",
      "Wall time: 28 ms\n",
      "focal method:  1728\n",
      "focal method:  137\n",
      "focal method:  177\n",
      "focal method:  378\n",
      "focal method:  5772\n",
      "CPU times: total: 31.2 ms\n",
      "Wall time: 30 ms\n",
      "focal method:  1728\n",
      "focal method:  137\n",
      "focal method:  177\n",
      "focal method:  378\n",
      "focal method:  5772\n",
      "CPU times: total: 46.9 ms\n",
      "Wall time: 39 ms\n",
      "focal method:  1728\n",
      "focal method:  137\n",
      "focal method:  177\n",
      "focal method:  378\n",
      "focal method:  5772\n",
      "CPU times: total: 46.9 ms\n",
      "Wall time: 39 ms\n",
      "focal method:  1728\n",
      "focal method:  137\n",
      "focal method:  177\n",
      "focal method:  378\n",
      "focal method:  5772\n",
      "CPU times: total: 31.2 ms\n",
      "Wall time: 39 ms\n",
      "focal method:  1728\n",
      "focal method:  137\n",
      "focal method:  177\n",
      "focal method:  378\n",
      "focal method:  5772\n",
      "CPU times: total: 31.2 ms\n",
      "Wall time: 35 ms\n",
      "focal method:  1728\n",
      "focal method:  137\n",
      "focal method:  177\n",
      "focal method:  378\n",
      "focal method:  5772\n",
      "CPU times: total: 31.2 ms\n",
      "Wall time: 36 ms\n",
      "focal method:  1728\n",
      "focal method:  137\n",
      "focal method:  177\n",
      "focal method:  378\n",
      "focal method:  5772\n",
      "CPU times: total: 46.9 ms\n",
      "Wall time: 33 ms\n",
      "focal method:  1728\n",
      "focal method:  137\n",
      "focal method:  177\n",
      "focal method:  378\n",
      "focal method:  5772\n",
      "CPU times: total: 31.2 ms\n",
      "Wall time: 32 ms\n",
      "focal method:  1728\n",
      "focal method:  137\n",
      "focal method:  177\n",
      "focal method:  378\n",
      "focal method:  5772\n",
      "CPU times: total: 31.2 ms\n",
      "Wall time: 38 ms\n"
     ]
    }
   ],
   "source": [
    "%%time\n",
    "from app.classes import LLMRecord\n",
    "# [x for x in all_dataset if x.doc_id in [47, 58, 61, 66, 123]]\n",
    "# prompt 分析\n",
    "def get_price_tuple(batch_li, avg = True):\n",
    "    dataset_attempts = []\n",
    "    if not isinstance(batch_li, list):\n",
    "        batch_li = [batch_li]\n",
    "    for bas in batch_li:\n",
    "        dataset_attempts += bas.attempts\n",
    "    print(\"focal method: \", len(dataset_attempts))\n",
    "    dataset_attempts = [a for a in dataset_attempts if a.sub_iteration_status]\n",
    "    first_its = [a.sub_iteration_status[0] for a in dataset_attempts]\n",
    "    first_prompts: List[LLMRecord] = [it.llm_records[0] for it in first_its]\n",
    "    def get_iter_prompts():\n",
    "        _its = [x for a in dataset_attempts for x in a.sub_iteration_status[1:]]\n",
    "        _prompts: List[LLMRecord] = [r for it in _its for r in it.llm_records[:1]]\n",
    "        return _prompts\n",
    "\n",
    "    def get_repair_prompts():\n",
    "        _its = [x for a in dataset_attempts for x in a.sub_iteration_status]\n",
    "        _prompts: List[LLMRecord] = [r for it in _its for r in it.llm_records[1:]]\n",
    "        return _prompts\n",
    "\n",
    "    def get_gen_prompts():\n",
    "        _its = [x for a in dataset_attempts for x in a.sub_iteration_status[0:1]]\n",
    "        _prompts: List[LLMRecord] = [r for it in _its for r in it.llm_records[0:1]]\n",
    "        return _prompts\n",
    "\n",
    "    def get_tokens(prompts: List[LLMRecord]):\n",
    "        in_tokens = sum([p.in_tokens for p in prompts])\n",
    "        out_tokens = sum([p.out_tokens for p in prompts])\n",
    "        return in_tokens, out_tokens\n",
    "\n",
    "    all_its = [x for a in dataset_attempts for x in a.sub_iteration_status]\n",
    "    all_prompts: List[LLMRecord] = [r for it in all_its for r in it.llm_records]\n",
    "    iter_in_tokens, iter_out_tokens = get_tokens(get_iter_prompts())\n",
    "    repair_in_tokens, repair_out_tokens = get_tokens(get_repair_prompts())\n",
    "    gen_in_tokens, gen_out_tokens = get_tokens(get_gen_prompts())\n",
    "    all_in_tokens, all_out_tokens = get_tokens(all_prompts)\n",
    "    assert gen_in_tokens + iter_in_tokens + repair_in_tokens == all_in_tokens\n",
    "    assert gen_out_tokens + iter_out_tokens + repair_out_tokens == all_out_tokens\n",
    "\n",
    "\n",
    "    GPT_IN_PRICE = 0.5 / 1000000\n",
    "    GPT_OUT_PRICE = 1.5 / 1000000\n",
    "\n",
    "    def get_price(in_tokens, out_tokens):\n",
    "        in_price = in_tokens * GPT_IN_PRICE\n",
    "        out_price = out_tokens * GPT_OUT_PRICE\n",
    "        return in_price, out_price\n",
    "    # input: 0.50$/M tokens output: 1.50$/M tokens\n",
    "    gen_in_price, gen_out_price = get_price(gen_in_tokens, gen_out_tokens)\n",
    "    iter_in_price, iter_out_price = get_price(iter_in_tokens, iter_out_tokens)\n",
    "    repair_in_price, repair_out_price = get_price(repair_in_tokens, repair_out_tokens)\n",
    "    all_in_price, all_out_price = get_price(all_in_tokens, all_out_tokens)\n",
    "    gen_price = gen_in_price + gen_out_price\n",
    "    iter_price = iter_in_price + iter_out_price\n",
    "    repair_price = repair_in_price + repair_out_price\n",
    "    all_price = all_in_price + all_out_price\n",
    "    if avg:\n",
    "        return gen_price / len(dataset_attempts), iter_price / len(dataset_attempts), repair_price / len(dataset_attempts), all_price / len(dataset_attempts)\n",
    "    return gen_price, iter_price, repair_price, all_price\n",
    "# first_in_coins = first_in_price / 0.004 * 1000 * DISCOUNT\n",
    "# first_out_coins = first_out_price / 0.004 * 1000 * DISCOUNT\n",
    "# all_in_coins = all_in_price / 0.004 * 1000 * DISCOUNT\n",
    "# all_out_coins = all_out_price / 0.004 * 1000 * DISCOUNT\n",
    "# print(f\"first prompt in coins: {first_in_coins}, out coins: {first_out_coins}\")\n",
    "# print(f\"all prompt in coins: {all_in_coins}, out coins: {all_out_coins}\")\n",
    "# # 34000 coins / rmb\n",
    "# first_in_rmb = first_in_coins / 34000\n",
    "# first_out_rmb = first_out_coins / 34000\n",
    "# all_in_rmb = all_in_coins / 34000\n",
    "# all_out_rmb = all_out_coins / 34000\n",
    "#\n",
    "# print(f\"first prompt in rmb: {first_in_rmb}, out rmb: {first_out_rmb}\")\n",
    "# print(f\"all prompt in rmb: {all_in_rmb}, out rmb: {all_out_rmb}\")\n",
    "# first_prompt_rmb = first_in_rmb + first_out_rmb\n",
    "# all_prompt_rmb = all_in_rmb + all_out_rmb\n",
    "# print(f\"first prompt rmb: {first_prompt_rmb}\")\n",
    "# print(f\"all prompt rmb: {all_prompt_rmb}\")\n",
    "\n",
    "dataset_names = [\n",
    "    \"lang_1_fixed\",\n",
    "    \"commons-csv\",\n",
    "    \"commons-cli\",\n",
    "    \"gson\",\n",
    "    \"jfreechart154\"\n",
    "]\n",
    "prices = []\n",
    "for batch in batch_li:\n",
    "    prices.append(\n",
    "        (x * 1 for x in get_price_tuple(batch, avg=False))\n",
    "    )\n",
    "import pandas as pd\n",
    "# write to csv\n",
    "# 创建 DataFrame\n",
    "df = pd.DataFrame(prices, columns=[\"gen_price\", \"iter_price\", \"repair_price\", \"all_price\"])\n",
    "\n",
    "# 将数据写入 CSV 文件\n",
    "df.to_csv(\"成本.csv\", index=False)"
   ],
   "metadata": {
    "collapsed": false,
    "ExecuteTime": {
     "end_time": "2024-04-04T09:41:30.112459400Z",
     "start_time": "2024-04-04T09:41:29.397802600Z"
    }
   }
  },
  {
   "cell_type": "code",
   "execution_count": 1,
   "outputs": [
    {
     "ename": "NameError",
     "evalue": "name 'batch_li' is not defined",
     "output_type": "error",
     "traceback": [
      "\u001B[1;31m---------------------------------------------------------------------------\u001B[0m",
      "\u001B[1;31mNameError\u001B[0m                                 Traceback (most recent call last)",
      "Cell \u001B[1;32mIn[1], line 23\u001B[0m\n\u001B[0;32m     21\u001B[0m     \u001B[38;5;28mprint\u001B[39m(bin_dict)\n\u001B[0;32m     22\u001B[0m     \u001B[38;5;28;01mreturn\u001B[39;00m bin_dict\n\u001B[1;32m---> 23\u001B[0m exec_time_dict \u001B[38;5;241m=\u001B[39m get_exec_time(\u001B[43mbatch_li\u001B[49m)\n\u001B[0;32m     24\u001B[0m pd\u001B[38;5;241m.\u001B[39mDataFrame(\u001B[38;5;28mlist\u001B[39m(exec_time_dict\u001B[38;5;241m.\u001B[39mitems()))\u001B[38;5;241m.\u001B[39mto_csv(\u001B[38;5;124m\"\u001B[39m\u001B[38;5;124mexec_time.csv\u001B[39m\u001B[38;5;124m\"\u001B[39m, index\u001B[38;5;241m=\u001B[39m\u001B[38;5;28;01mFalse\u001B[39;00m)\n",
      "\u001B[1;31mNameError\u001B[0m: name 'batch_li' is not defined"
     ]
    }
   ],
   "source": [
    "# 运行时间统计\n",
    "def get_exec_time(batch_li):\n",
    "    dataset_attempts = []\n",
    "    if not isinstance(batch_li, list):\n",
    "        batch_li = [batch_li]\n",
    "    for bas in batch_li:\n",
    "        dataset_attempts += bas.attempts\n",
    "    print(\"focal method: \", len(dataset_attempts))\n",
    "    exec_times = [a.duration * 0.75 / 1000 for a in dataset_attempts]\n",
    "    print(len(exec_times))\n",
    "    bins = list(range(0, 300, 30))\n",
    "    bin_dict = {f\"{i}-{i + 30}\": 0 for i in bins}\n",
    "    bin_dict[\"240+\"] = 0\n",
    "    for t in exec_times:\n",
    "        for i in bins:\n",
    "            if i <= t < i + 30:\n",
    "                bin_dict[f\"{i}-{i + 30}\"] += 1\n",
    "                break\n",
    "        if t >= 300:\n",
    "            bin_dict[f\"240+\"] += 1\n",
    "    print(bin_dict)\n",
    "    return bin_dict\n",
    "exec_time_dict = get_exec_time(batch_li)\n",
    "pd.DataFrame(list(exec_time_dict.items())).to_csv(\"exec_time.csv\", index=False)"
   ],
   "metadata": {
    "collapsed": false,
    "ExecuteTime": {
     "end_time": "2024-04-04T10:05:43.412018500Z",
     "start_time": "2024-04-04T10:05:43.197738500Z"
    }
   }
  },
  {
   "cell_type": "markdown",
   "source": [
    "重构方法，只计算第一次迭代第一次运行结果"
   ],
   "metadata": {
    "collapsed": false
   }
  },
  {
   "cell_type": "code",
   "execution_count": 7,
   "outputs": [],
   "source": [
    "def get_first_attempts(attempts: List[AttemptStatus]):\n",
    "    first_attempts = []\n",
    "    for a in attempts:\n",
    "        cpy_a = a.model_copy(deep=True)\n",
    "        if cpy_a.type != IterationStatus.Type.PASS:\n",
    "            first_attempts.append(cpy_a)\n",
    "            continue\n",
    "        if not cpy_a.sub_iteration_status:\n",
    "            pass\n",
    "        else:\n",
    "            it: IterationStatus = cpy_a.sub_iteration_status[0]\n",
    "            cpy_a.sub_iteration_status = []\n",
    "            cpy_a.iteration_status = None\n",
    "            if not it.sub_test_status:\n",
    "                assert False\n",
    "                pass\n",
    "            else:\n",
    "                ts = it.sub_test_status[0]\n",
    "                it.sub_test_status = []\n",
    "                it.test_status = None\n",
    "                it.add_test_status(ts)\n",
    "                if ts.type == TestStatus.Type.ERROR:\n",
    "                    it.type = IterationStatus.Type.COMPILE_ERROR\n",
    "                else:\n",
    "                    it.type = IterationStatus.Type.PASS if it.all_pass else IterationStatus.Type.RUNTIME_ERROR\n",
    "            cpy_a.add_iteration_status(it)\n",
    "        first_attempts.append(cpy_a)\n",
    "    return first_attempts\n",
    "\n",
    "\n",
    "# attempts = get_iteration_n_attempts(1)\n",
    "get_pass_attempts = lambda x: [a for a in x if a.type == IterationStatus.Type.PASS]\n",
    "first_attempts = get_first_attempts(attempts)"
   ],
   "metadata": {
    "collapsed": false,
    "ExecuteTime": {
     "end_time": "2024-04-03T12:40:00.511716400Z",
     "start_time": "2024-04-03T12:39:58.879932Z"
    }
   }
  },
  {
   "cell_type": "code",
   "execution_count": 23,
   "outputs": [
    {
     "name": "stdout",
     "output_type": "stream",
     "text": [
      "focal method:  137\n",
      "65\n"
     ]
    }
   ],
   "source": [
    "from tqdm import tqdm\n",
    "\n",
    "\n",
    "def check_is_valid(flow_run_id: str):\n",
    "    import requests\n",
    "    base_url = \"http://127.0.0.1:4200/api/logs/filter\"\n",
    "    payload = {\n",
    "        \"logs\": {\n",
    "            \"level\": {\n",
    "                \"ge_\": 30\n",
    "            },\n",
    "            \"flow_run_id\": {\n",
    "                \"any_\": [\n",
    "                    f\"{flow_run_id}\"\n",
    "                ]\n",
    "            }\n",
    "        },\n",
    "        \"sort\": \"TIMESTAMP_ASC\",\n",
    "        \"offset\": 0,\n",
    "        \"limit\": 200\n",
    "    }\n",
    "\n",
    "    # parse response\n",
    "    response = requests.post(base_url, json=payload)\n",
    "    arr = response.json()\n",
    "    messages = [x['message'] for x in arr]\n",
    "    for i in range(len(messages) - 1):\n",
    "        if 'source folder D' in messages[i]:\n",
    "            if 'fix compile error' in messages[i + 1]:\n",
    "                return False\n",
    "            else:\n",
    "                return True\n",
    "    return True\n",
    "\n",
    "\n",
    "def first_attempt_filter(attempts: List[AttemptStatus]):\n",
    "    filtered = []\n",
    "    for a in tqdm(attempts):\n",
    "        if a.type == IterationStatus.Type.PASS and check_is_valid(a.link.split(\"/\")[-1]):\n",
    "            filtered.append(a)\n",
    "    print(f\"filtered: {len(filtered)}\")\n",
    "    return filtered\n",
    "\n",
    "first_attempts = get_pass_attempts(get_first_attempts(get_attempts_from_batch(batch_li[1:2])))\n",
    "print(len(first_attempts))"
   ],
   "metadata": {
    "collapsed": false,
    "ExecuteTime": {
     "end_time": "2024-03-14T11:55:55.163177800Z",
     "start_time": "2024-03-14T11:55:55.101809900Z"
    }
   }
  },
  {
   "cell_type": "code",
   "execution_count": 8,
   "outputs": [
    {
     "name": "stdout",
     "output_type": "stream",
     "text": [
      "focal method:  7936\n",
      "all attempts: 95144.78389616935\n",
      "all pass attempts: 100717.64148201961\n"
     ]
    }
   ],
   "source": [
    "# 计算平均用时\n",
    "all_attempts = get_attempts_from_batch(all_dataset[:5])\n",
    "all_pass_attempts = get_pass_attempts(all_attempts)\n",
    "\n",
    "\n",
    "def duration_per_attempt(attempts: List[AttemptStatus]):\n",
    "    return sum([a.duration for a in attempts]) / len(attempts)\n",
    "\n",
    "\n",
    "print(f\"all attempts: {duration_per_attempt(all_attempts)}\")\n",
    "print(f\"all pass attempts: {duration_per_attempt(all_pass_attempts)}\")"
   ],
   "metadata": {
    "collapsed": false,
    "ExecuteTime": {
     "end_time": "2024-03-14T11:44:41.859395300Z",
     "start_time": "2024-03-14T11:44:41.746061400Z"
    }
   }
  },
  {
   "cell_type": "code",
   "execution_count": 9,
   "outputs": [
    {
     "name": "stdout",
     "output_type": "stream",
     "text": [
      "PASS: 52.56%   4306\n",
      "RUNTIME_ERROR: 24.48%   2005\n",
      "COMPILE_ERROR: 22.44%   1838\n",
      "SYNTAX_ERROR: 0.45%   37\n",
      "FAIL: 0.07%   6\n"
     ]
    }
   ],
   "source": [
    "\n",
    "def get_iteration_n_attempts(n):\n",
    "    iteration_attempts = []\n",
    "    for a in attempts:\n",
    "        cpy_a = a.model_copy(deep=True)\n",
    "\n",
    "        if cpy_a.index < n:\n",
    "            iteration_attempts.append(cpy_a)\n",
    "            continue\n",
    "\n",
    "        sub_its = cpy_a.sub_iteration_status\n",
    "        cpy_a.sub_iteration_status = []\n",
    "        cpy_a.iteration_status = None\n",
    "\n",
    "        count = 0\n",
    "        for it in sub_its:\n",
    "            cpy_a.add_iteration_status(it)\n",
    "            count += 1\n",
    "            if count == n:\n",
    "                break\n",
    "\n",
    "        iteration_attempts.append(cpy_a)\n",
    "        try:\n",
    "            assert len(cpy_a.sub_iteration_status) == n\n",
    "        except:\n",
    "            print(cpy_a.idx, len(cpy_a.sub_iteration_status))\n",
    "    return iteration_attempts\n",
    "\n",
    "\n",
    "from collections import Counter\n",
    "import matplotlib.pyplot as plt\n",
    "\n",
    "c = Counter([a.type for a in first_attempts])\n",
    "total = sum(c.values())\n",
    "sorted_c = sorted(c.items(), key=lambda item: item[1], reverse=True)\n",
    "\n",
    "for name, count in sorted_c:\n",
    "    percentage = (count / total) * 100\n",
    "    print(f\"{name}: {percentage:.2f}%   {count}\")"
   ],
   "metadata": {
    "collapsed": false,
    "ExecuteTime": {
     "end_time": "2024-03-14T11:44:42.459253500Z",
     "start_time": "2024-03-14T11:44:41.860397500Z"
    }
   }
  },
  {
   "cell_type": "code",
   "execution_count": 12,
   "outputs": [
    {
     "name": "stdout",
     "output_type": "stream",
     "text": [
      "focal method:  7936\n",
      "focal method:  7936\n",
      "PASS: 48.95% -> 48.95% (0.00%) 3885 -> 3885 (0)\n",
      "RUNTIME_ERROR: 31.19% -> 31.19% (0.00%) 2475 -> 2475 (0)\n",
      "COMPILE_ERROR: 19.80% -> 19.80% (0.00%) 1571 -> 1571 (0)\n",
      "SYNTAX_ERROR: 0.05% -> 0.05% (0.00%) 4 -> 4 (0)\n",
      "FAIL: 0.01% -> 0.01% (0.00%) 1 -> 1 (0)\n"
     ]
    }
   ],
   "source": [
    "from collections import Counter\n",
    "\n",
    "\n",
    "def calculate_percentage_and_count(attempts_list):\n",
    "    c = Counter([a.type for a in attempts_list])\n",
    "    total = sum(c.values())\n",
    "    sorted_c = sorted(c.items(), key=lambda item: item[1], reverse=True)\n",
    "    result = {}\n",
    "    for name, count in sorted_c:\n",
    "        percentage = (count / total) * 100\n",
    "        result[name] = (percentage, count)\n",
    "    return result\n",
    "\n",
    "\n",
    "attempts = get_attempts_from_batch([x for x in all_dataset if x.doc_id in [47, 58, 61, 66, 82]],\n",
    "                                   CoverageMode.LINE_COVERAGE)\n",
    "\n",
    "attempts = get_attempts_from_batch([x for x in all_dataset if x.doc_id in [89,98,99,100,101]],\n",
    "                                   CoverageMode.LINE_COVERAGE)\n",
    "attempts_result = calculate_percentage_and_count(attempts)\n",
    "first_attempts_result = calculate_percentage_and_count(get_first_attempts(attempts))\n",
    "\n",
    "for key in attempts_result.keys():\n",
    "    percentage_change = attempts_result[key][0] - first_attempts_result[key][0]\n",
    "    count_change = attempts_result[key][1] - first_attempts_result[key][1]\n",
    "    print(\n",
    "        f\"{key}: {first_attempts_result[key][0]:.2f}% -> {attempts_result[key][0]:.2f}% ({percentage_change:.2f}%) {first_attempts_result[key][1]} -> {attempts_result[key][1]} ({count_change})\")\n"
   ],
   "metadata": {
    "collapsed": false,
    "ExecuteTime": {
     "end_time": "2024-03-13T05:57:54.008807500Z",
     "start_time": "2024-03-13T05:57:51.351655300Z"
    }
   }
  },
  {
   "cell_type": "code",
   "execution_count": 13,
   "outputs": [
    {
     "data": {
      "text/plain": "<Figure size 640x480 with 1 Axes>",
      "image/png": "[encoded data removed]"
     },
     "metadata": {},
     "output_type": "display_data"
    }
   ],
   "source": [
    "import matplotlib.pyplot as plt\n",
    "import numpy as np\n",
    "\n",
    "gpt4_attempts_result = calculate_percentage_and_count(gpt4_batch_li[0].attempts)\n",
    "\n",
    "# 获取键和值\n",
    "keys = list(attempts_result.keys())\n",
    "first_values = [first_attempts_result[key][0] for key in keys]\n",
    "# gpt4_values = [gpt4_attempts_result[key][0] for key in keys]\n",
    "attempts_values = [attempts_result[key][0] for key in keys]\n",
    "\n",
    "# 设置柱状图的位置\n",
    "x = np.arange(len(keys))\n",
    "\n",
    "# 创建一个新的图形\n",
    "fig, ax = plt.subplots()\n",
    "\n",
    "# 创建柱状图\n",
    "rects1 = ax.bar(x - 0.2, first_values, 0.2, label='First Attempt')\n",
    "rects2 = ax.bar(x + 0.2, attempts_values, 0.2, label='Iterated Attempts')\n",
    "# rects3 = ax.bar(x, gpt4_values, 0.2, label='GPT-4')\n",
    "# 添加标签，标题和自定义x轴刻度标签\n",
    "ax.set_ylabel('Coverage Percentage')\n",
    "ax.set_title('Coverage Percentage by Iteration Status')\n",
    "ax.set_xticks(x)\n",
    "ax.set_xticklabels(['PASS', 'RE', 'CE', 'SE', 'FAIL'][:len(keys)])\n",
    "ax.legend()\n",
    "# 设置分辨率\n",
    "# fig.dpi = 200\n",
    "# 显示图形\n",
    "plt.show()\n"
   ],
   "metadata": {
    "collapsed": false,
    "ExecuteTime": {
     "end_time": "2024-03-13T05:57:54.306836Z",
     "start_time": "2024-03-13T05:57:54.009802500Z"
    }
   }
  },
  {
   "cell_type": "code",
   "execution_count": 57,
   "outputs": [
    {
     "name": "stdout",
     "output_type": "stream",
     "text": [
      "focal method:  6464\n",
      "pass method:  3337\n",
      "final: (9885, 10881, 0.9084642955610698)\n"
     ]
    }
   ],
   "source": [
    "covered, total = 0, 0\n",
    "def f(attempts):\n",
    "    global covered, total\n",
    "    print(\"pass method: \", len(attempts))\n",
    "    for a in attempts:\n",
    "        c, t = a.cover_value\n",
    "        # if a.idx <= 200:\n",
    "        #     no_covered = t - c\n",
    "        #     t /= 2\n",
    "        #     c = t - no_covered\n",
    "        covered += c\n",
    "        total += t\n",
    "\n",
    "    return covered, total, covered / total\n",
    "\n",
    "tmp_batch_li = batch_li[1:5]\n",
    "# attempts = get_attempts_from_batch(tmp_batch_li, CoverageMode.BRANCH_COVERAGE)\n",
    "# print(f\"final: {f(get_pass_attempts(attempts))}\")\n",
    "attempts = get_attempts_from_batch(tmp_batch_li, CoverageMode.LINE_COVERAGE)\n",
    "print(f\"final: {f(get_pass_attempts(get_first_attempts(attempts)))}\")\n",
    "# first_attempts = get_first_attempts(attempts)\n",
    "\n",
    "# for i in range(4):\n",
    "#     print(f\"iteration {i + 1}: {f(get_pass_attempts(get_iteration_n_attempts(i + 1)))}\")\n",
    "\n",
    "# pass_first_attempts = get_pass_attempts(first_attempts)\n",
    "# print(\"first pass attempts: \", len(pass_first_attempts))\n",
    "# first_cover_rate = f(pass_first_attempts)\n",
    "# first_attempts_idx = [a.idx for a in pass_first_attempts]\n",
    "# cover_rate = f([a for a in attempts if a.idx in first_attempts_idx])\n",
    "# print(\"covered, total, rate\")\n",
    "# print(first_cover_rate)\n",
    "# print(cover_rate)\n",
    "# print(f\"increased: {100 * (cover_rate[2] - first_cover_rate[2]):.2f}%\")"
   ],
   "metadata": {
    "collapsed": false,
    "ExecuteTime": {
     "end_time": "2024-03-13T12:22:15.673915100Z",
     "start_time": "2024-03-13T12:22:14.144532900Z"
    }
   }
  },
  {
   "cell_type": "code",
   "execution_count": 54,
   "outputs": [
    {
     "name": "stdout",
     "output_type": "stream",
     "text": [
      "pass method:  6491\n",
      "pass method:  6491\n",
      "pass method:  6491\n",
      "pass method:  6491\n"
     ]
    }
   ],
   "source": [
    "import matplotlib.pyplot as plt\n",
    "import numpy as np\n",
    "\n",
    "# Create a list to store the coverage rate for each iteration\n",
    "coverage_rates = []\n",
    "\n",
    "# Iterate over the range of iterations\n",
    "for i in range(4):\n",
    "    # Calculate the coverage rate for each iteration\n",
    "    _, _, rate = f(get_pass_attempts(get_iteration_n_attempts(i + 1)))\n",
    "    # Append the coverage rate to the list\n",
    "    coverage_rates.append(rate)"
   ],
   "metadata": {
    "collapsed": false,
    "ExecuteTime": {
     "end_time": "2024-03-09T08:42:22.855227700Z",
     "start_time": "2024-03-09T08:42:16.252627900Z"
    }
   }
  },
  {
   "cell_type": "code",
   "execution_count": 55,
   "outputs": [
    {
     "data": {
      "text/plain": "<Figure size 1280x960 with 1 Axes>",
      "image/png": "[encoded data removed]"
     },
     "metadata": {},
     "output_type": "display_data"
    }
   ],
   "source": [
    "# Create an array for the x values\n",
    "x = np.arange(1, len(coverage_rates) + 1)\n",
    "plt.figure(dpi=200)\n",
    "\n",
    "# Plot the bar chart\n",
    "plt.bar(x, coverage_rates)\n",
    "\n",
    "# Set the title and labels\n",
    "plt.title('Coverage Rate Change for Each Iteration')\n",
    "plt.xlabel('Iteration')\n",
    "plt.ylabel('Coverage Rate')\n",
    "\n",
    "# Set the y-axis limits\n",
    "plt.ylim([0.8, max(coverage_rates) + 0.05])\n",
    "\n",
    "# Set the x-axis tick labels to be the iteration names\n",
    "iteration_names = ['Iteration 1', 'Iteration 2', 'Iteration 3', 'Iteration 4']\n",
    "plt.xticks(x, iteration_names)\n",
    "# Show the plot\n",
    "plt.show()"
   ],
   "metadata": {
    "collapsed": false,
    "ExecuteTime": {
     "end_time": "2024-03-09T08:42:22.960059Z",
     "start_time": "2024-03-09T08:42:22.857228100Z"
    }
   }
  },
  {
   "cell_type": "code",
   "execution_count": 56,
   "outputs": [
    {
     "data": {
      "text/plain": "[0.7704993923962734,\n 0.8421966321393438,\n 0.8568369886001967,\n 0.8607140790463514]"
     },
     "execution_count": 56,
     "metadata": {},
     "output_type": "execute_result"
    }
   ],
   "source": [
    "coverage_rates"
   ],
   "metadata": {
    "collapsed": false,
    "ExecuteTime": {
     "end_time": "2024-03-09T08:42:22.964055900Z",
     "start_time": "2024-03-09T08:42:22.961057700Z"
    }
   }
  },
  {
   "cell_type": "code",
   "execution_count": 35,
   "outputs": [
    {
     "name": "stdout",
     "output_type": "stream",
     "text": [
      "focal method:  5772\n",
      "test_cases_num: 8337\n"
     ]
    },
    {
     "data": {
      "text/plain": "<Figure size 640x480 with 1 Axes>",
      "image/png": "[encoded data removed]"
     },
     "metadata": {},
     "output_type": "display_data"
    }
   ],
   "source": [
    "\n",
    "import matplotlib.pyplot as plt\n",
    "from collections import Counter\n",
    "\n",
    "\n",
    "def plot_counters(passed_attempts_list):\n",
    "    for i, passed_attempts in enumerate(passed_attempts_list):\n",
    "        test_cases_num = [a.iteration_status.test_status.passed for a in passed_attempts]\n",
    "        print(f\"test_cases_num: {sum(test_cases_num)}\")\n",
    "        counter = Counter(test_cases_num)\n",
    "        keys = list(counter.keys())\n",
    "        values = list(counter.values())\n",
    "        key_value_pairs = list(zip(keys, values))\n",
    "        sorted_pairs = sorted(key_value_pairs)\n",
    "        sorted_keys, sorted_values = zip(*sorted_pairs)\n",
    "        x_coords = range(len(sorted_keys))\n",
    "        plt.bar(x_coords, sorted_values, tick_label=sorted_keys, label=f'Counter for passed_attempts_list {i + 1}')\n",
    "    plt.legend()\n",
    "    plt.show()\n",
    "\n",
    "\n",
    "plot_counters([\n",
    "    get_pass_attempts(get_attempts_from_batch(batch_li[-1:])),\n",
    "])"
   ],
   "metadata": {
    "collapsed": false,
    "ExecuteTime": {
     "end_time": "2024-03-10T11:08:07.918748Z",
     "start_time": "2024-03-10T11:08:07.763541200Z"
    }
   }
  },
  {
   "cell_type": "code",
   "execution_count": null,
   "outputs": [],
   "source": [],
   "metadata": {
    "collapsed": false
   }
  },
  {
   "cell_type": "markdown",
   "source": [],
   "metadata": {
    "collapsed": false
   }
  },
  {
   "cell_type": "code",
   "execution_count": 61,
   "outputs": [
    {
     "name": "stdout",
     "output_type": "stream",
     "text": [
      "focal method:  8192\n",
      "8192\n",
      "focal method:  8192\n",
      "6416\n",
      "8192\n"
     ]
    }
   ],
   "source": [
    "a = {f\"{a.clazz}#{a.method}#{a.idx}\": a for a in\n",
    "     get_attempts_from_batch(batch_li, CoverageMode.LINE_COVERAGE)}\n",
    "print(len(a))\n",
    "b = {f\"{a.clazz}#{a.method}#{a.idx}\": a for a in\n",
    "     get_pass_attempts(get_attempts_from_batch(no_feed_back_batch_li, CoverageMode.LINE_COVERAGE))}\n",
    "print(len(b))\n",
    "a.update(b)\n",
    "print(len(a))\n",
    "a = list(a.values())"
   ],
   "metadata": {
    "collapsed": false,
    "ExecuteTime": {
     "end_time": "2024-03-10T11:34:23.746927800Z",
     "start_time": "2024-03-10T11:34:23.653525400Z"
    }
   }
  },
  {
   "cell_type": "code",
   "execution_count": 1,
   "outputs": [
    {
     "ename": "NameError",
     "evalue": "name 'get_attempts_from_batch' is not defined",
     "output_type": "error",
     "traceback": [
      "\u001B[1;31m---------------------------------------------------------------------------\u001B[0m",
      "\u001B[1;31mNameError\u001B[0m                                 Traceback (most recent call last)",
      "Cell \u001B[1;32mIn[1], line 11\u001B[0m\n\u001B[0;32m      7\u001B[0m         total \u001B[38;5;241m+\u001B[39m\u001B[38;5;241m=\u001B[39m t\n\u001B[0;32m      8\u001B[0m     \u001B[38;5;28;01mreturn\u001B[39;00m covered, total, covered \u001B[38;5;241m/\u001B[39m total\n\u001B[1;32m---> 11\u001B[0m attempts \u001B[38;5;241m=\u001B[39m \u001B[43mget_attempts_from_batch\u001B[49m(batch_li)\n\u001B[0;32m     13\u001B[0m \u001B[38;5;28;01mfor\u001B[39;00m i \u001B[38;5;129;01min\u001B[39;00m \u001B[38;5;28mrange\u001B[39m(\u001B[38;5;241m4\u001B[39m):\n\u001B[0;32m     14\u001B[0m     \u001B[38;5;28mprint\u001B[39m(\u001B[38;5;124mf\u001B[39m\u001B[38;5;124m\"\u001B[39m\u001B[38;5;124miteration \u001B[39m\u001B[38;5;132;01m{\u001B[39;00mi\u001B[38;5;250m \u001B[39m\u001B[38;5;241m+\u001B[39m\u001B[38;5;250m \u001B[39m\u001B[38;5;241m1\u001B[39m\u001B[38;5;132;01m}\u001B[39;00m\u001B[38;5;124m: \u001B[39m\u001B[38;5;132;01m{\u001B[39;00mf(get_pass_attempts(get_iteration_n_attempts(i\u001B[38;5;250m \u001B[39m\u001B[38;5;241m+\u001B[39m\u001B[38;5;250m \u001B[39m\u001B[38;5;241m1\u001B[39m)))\u001B[38;5;132;01m}\u001B[39;00m\u001B[38;5;124m\"\u001B[39m)\n",
      "\u001B[1;31mNameError\u001B[0m: name 'get_attempts_from_batch' is not defined"
     ]
    }
   ],
   "source": [
    "def f(attempts):\n",
    "    covered, total = 0, 0\n",
    "    print(\"pass method: \", len(attempts))\n",
    "    for a in attempts:\n",
    "        c, t = a.cover_value\n",
    "        covered += c\n",
    "        total += t\n",
    "    return covered, total, covered / total\n",
    "\n",
    "\n",
    "attempts = get_attempts_from_batch(batch_li)\n",
    "\n",
    "for i in range(4):\n",
    "    print(f\"iteration {i + 1}: {f(get_pass_attempts(get_iteration_n_attempts(i + 1)))}\")\n",
    "print(f\"final: {f(get_pass_attempts(attempts))}\")\n",
    "\n",
    "pass_first_attempts = get_pass_attempts(first_attempts)\n",
    "first_cover_rate = f(pass_first_attempts)\n",
    "first_attempts_idx = [a.idx for a in pass_first_attempts]\n",
    "cover_rate = f([a for a in attempts if a.idx in first_attempts_idx])\n",
    "print(\"covered, total, rate\")\n",
    "print(first_cover_rate)\n",
    "print(cover_rate)\n",
    "print(f\"increased: {100 * (cover_rate[2] - first_cover_rate[2]):.2f}%\")"
   ],
   "metadata": {
    "collapsed": false,
    "ExecuteTime": {
     "end_time": "2024-03-11T04:35:25.058388Z",
     "start_time": "2024-03-11T04:35:24.846759300Z"
    }
   }
  }
 ],
 "metadata": {
  "kernelspec": {
   "display_name": "Python 3",
   "language": "python",
   "name": "python3"
  },
  "language_info": {
   "codemirror_mode": {
    "name": "ipython",
    "version": 2
   },
   "file_extension": ".py",
   "mimetype": "text/x-python",
   "name": "python",
   "nbconvert_exporter": "python",
   "pygments_lexer": "ipython2",
   "version": "2.7.6"
  }
 },
 "nbformat": 4,
 "nbformat_minor": 0
}
